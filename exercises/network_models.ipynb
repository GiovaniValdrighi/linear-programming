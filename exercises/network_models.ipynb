{
 "cells": [
  {
   "cell_type": "markdown",
   "metadata": {},
   "source": [
    "# AMD - Network models\n",
    "## Exercise 2\n",
    "\n",
    "Rent-a-car company with 4 destinations $\\{A, B, C, D\\}$ and 3 supplies $\\{1, 2, 3\\}$ with equal values of demand and offer."
   ]
  },
  {
   "cell_type": "code",
   "execution_count": 1,
   "metadata": {},
   "outputs": [],
   "source": [
    "using JuMP\n",
    "using Cbc"
   ]
  },
  {
   "cell_type": "code",
   "execution_count": 19,
   "metadata": {},
   "outputs": [
    {
     "name": "stdout",
     "output_type": "stream",
     "text": [
      "Min 7 x[1,1] + x[2,1] + 9 x[3,1] + 11 x[1,2] + 6 x[2,2] + 15 x[3,2] + 3 x[1,3] + 8 x[3,3] + 2 x[1,4] + x[2,4] + 5 x[3,4]\n",
      "Subject to\n",
      " x[1,1] + x[2,1] + x[3,1] == 2.0\n",
      " x[1,2] + x[2,2] + x[3,2] == 3.0\n",
      " x[1,3] + x[2,3] + x[3,3] == 5.0\n",
      " x[1,4] + x[2,4] + x[3,4] == 7.0\n",
      " x[1,1] + x[1,2] + x[1,3] + x[1,4] == 6.0\n",
      " x[2,1] + x[2,2] + x[2,3] + x[2,4] == 1.0\n",
      " x[3,1] + x[3,2] + x[3,3] + x[3,4] == 10.0\n",
      " x[1,1] >= 0.0\n",
      " x[2,1] >= 0.0\n",
      " x[3,1] >= 0.0\n",
      " x[1,2] >= 0.0\n",
      " x[2,2] >= 0.0\n",
      " x[3,2] >= 0.0\n",
      " x[1,3] >= 0.0\n",
      " x[2,3] >= 0.0\n",
      " x[3,3] >= 0.0\n",
      " x[1,4] >= 0.0\n",
      " x[2,4] >= 0.0\n",
      " x[3,4] >= 0.0\n",
      "\n",
      "Welcome to the CBC MILP Solver \n",
      "Version: 2.10.3 \n",
      "Build Date: Jan  1 1970 \n",
      "\n",
      "command line - Cbc_C_Interface -solve -quit (default strategy 1)\n",
      "Presolve 7 (0) rows, 12 (0) columns and 24 (0) elements\n",
      "0  Obj 0 Primal inf 33.999999 (7)\n",
      "9  Obj 100\n",
      "Optimal - objective value 100\n",
      "Optimal objective 100 - 9 iterations time 0.002\n",
      "Total time (CPU seconds):       0.11   (Wallclock seconds):       0.11\n",
      "\n"
     ]
    }
   ],
   "source": [
    "m = Model(Cbc.Optimizer) \n",
    "@variable(m, x[1:3, 1:4] >= 0)\n",
    "#balance restritions\n",
    "demand = [2 3 5 7]\n",
    "@constraint(m, sum(x[1:3, i=1:4]) == demand[i])\n",
    "\n",
    "offer = [6 1 10]\n",
    "for i in 1:3\n",
    "    @constraint(m, sum(x[i, 1:4]) == offer[i])\n",
    "end\n",
    "\n",
    "#costs\n",
    "C = [ 7 11 3 2; \n",
    "1 6 0 1;\n",
    "9 15 8 5]\n",
    "@objective(m, Min, sum(x .* C))\n",
    "println(m)\n",
    "optimize!(m)"
   ]
  },
  {
   "cell_type": "code",
   "execution_count": 26,
   "metadata": {},
   "outputs": [
    {
     "name": "stdout",
     "output_type": "stream",
     "text": [
      "Min 7 x[1,1] + x[2,1] + 9 x[3,1] + 11 x[1,2] + 6 x[2,2] + 15 x[3,2] + 3 x[1,3] + 8 x[3,3] + 2 x[1,4] + x[2,4] + 5 x[3,4]\n",
      "Subject to\n",
      " con[1] : x[1,1] + x[2,1] + x[3,1] == 2.0\n",
      " con[2] : x[1,2] + x[2,2] + x[3,2] == 3.0\n",
      " con[3] : x[1,3] + x[2,3] + x[3,3] == 5.0\n",
      " con[4] : x[1,4] + x[2,4] + x[3,4] == 7.0\n",
      " con_offer[1] : x[1,1] + x[1,2] + x[1,3] + x[1,4] == 6.0\n",
      " con_offer[2] : x[2,1] + x[2,2] + x[2,3] + x[2,4] == 1.0\n",
      " con_offer[3] : x[3,1] + x[3,2] + x[3,3] + x[3,4] == 10.0\n",
      " x[1,1] >= 0.0\n",
      " x[2,1] >= 0.0\n",
      " x[3,1] >= 0.0\n",
      " x[1,2] >= 0.0\n",
      " x[2,2] >= 0.0\n",
      " x[3,2] >= 0.0\n",
      " x[1,3] >= 0.0\n",
      " x[2,3] >= 0.0\n",
      " x[3,3] >= 0.0\n",
      " x[1,4] >= 0.0\n",
      " x[2,4] >= 0.0\n",
      " x[3,4] >= 0.0\n",
      "\n",
      "Welcome to the CBC MILP Solver \n",
      "Version: 2.10.3 \n",
      "Build Date: Jan  1 1970 \n",
      "\n",
      "command line - Cbc_C_Interface -solve -quit (default strategy 1)\n",
      "Presolve 7 (0) rows, 12 (0) columns and 24 (0) elements\n",
      "0  Obj 0 Primal inf 33.999999 (7)\n",
      "9  Obj 100\n",
      "Optimal - objective value 100\n",
      "Optimal objective 100 - 9 iterations time 0.002\n",
      "Total time (CPU seconds):       0.00   (Wallclock seconds):       0.00\n",
      "\n"
     ]
    }
   ],
   "source": [
    "m = Model(Cbc.Optimizer) \n",
    "@variable(m, x[1:3, 1:4] >= 0)\n",
    "#balance restritions\n",
    "demand = [2 3 5 7]\n",
    "@constraint(m, con[i = 1:4], sum(x[1:3, i]) == demand[i])\n",
    "\n",
    "offer = [6 1 10]\n",
    "@constraint(m, con_offer[i = 1:3], sum(x[i, 1:4]) == offer[i])\n",
    "\n",
    "#costs\n",
    "C = [ 7 11 3 2; \n",
    "1 6 0 1;\n",
    "9 15 8 5]\n",
    "@objective(m, Min, sum(x .* C))\n",
    "println(m)\n",
    "optimize!(m)"
   ]
  },
  {
   "cell_type": "code",
   "execution_count": 27,
   "metadata": {},
   "outputs": [
    {
     "name": "stdout",
     "output_type": "stream",
     "text": [
      "Result\n"
     ]
    },
    {
     "data": {
      "text/plain": [
       "3×4 Array{Float64,2}:\n",
       " 0.0  1.0  5.0  0.0\n",
       " 0.0  1.0  0.0  0.0\n",
       " 2.0  1.0  0.0  7.0"
      ]
     },
     "execution_count": 27,
     "metadata": {},
     "output_type": "execute_result"
    }
   ],
   "source": [
    "println(\"Result\")\n",
    "JuMP.value.(x)"
   ]
  },
  {
   "cell_type": "markdown",
   "metadata": {},
   "source": [
    "## Exercise 3\n",
    "NASDAQ - transaction of informations about operations."
   ]
  },
  {
   "cell_type": "code",
   "execution_count": 38,
   "metadata": {},
   "outputs": [
    {
     "name": "stdout",
     "output_type": "stream",
     "text": [
      "Min 6 x[1,1] + 3 x[2,1] + 8 x[3,1] + 11 x[4,1] + 4 x[5,1] + 6 x[1,2] + 2 x[2,2] + 7 x[3,2] + 12 x[4,2] + 3 x[5,2] + 9 x[1,3] + 7 x[2,3] + 5 x[3,3] + 9 x[4,3] + 4 x[5,3] + 4 x[1,4] + 5 x[2,4] + 6 x[3,4] + 5 x[4,4] + 5 x[5,4] + 10 x[1,5] + 12 x[2,5] + 4 x[3,5] + 2 x[4,5] + 11 x[5,5]\n",
      "Subject to\n",
      " const_demand[1] : x[1,1] + x[2,1] + x[3,1] + x[4,1] + x[5,1] == 120.0\n",
      " const_demand[2] : x[1,2] + x[2,2] + x[3,2] + x[4,2] + x[5,2] == 80.0\n",
      " const_demand[3] : x[1,3] + x[2,3] + x[3,3] + x[4,3] + x[5,3] == 50.0\n",
      " const_demand[4] : x[1,4] + x[2,4] + x[3,4] + x[4,4] + x[5,4] == 75.0\n",
      " const_demand[5] : x[1,5] + x[2,5] + x[3,5] + x[4,5] + x[5,5] == 85.0\n",
      " const_supply[1] : x[1,1] + x[1,2] + x[1,3] + x[1,4] + x[1,5] == 45.0\n",
      " const_supply[2] : x[2,1] + x[2,2] + x[2,3] + x[2,4] + x[2,5] == 90.0\n",
      " const_supply[3] : x[3,1] + x[3,2] + x[3,3] + x[3,4] + x[3,5] == 95.0\n",
      " const_supply[4] : x[4,1] + x[4,2] + x[4,3] + x[4,4] + x[4,5] == 75.0\n",
      " const_supply[5] : x[5,1] + x[5,2] + x[5,3] + x[5,4] + x[5,5] == 105.0\n",
      " x[1,1] >= 0.0\n",
      " x[2,1] >= 0.0\n",
      " x[3,1] >= 0.0\n",
      " x[4,1] >= 0.0\n",
      " x[5,1] >= 0.0\n",
      " x[1,2] >= 0.0\n",
      " x[2,2] >= 0.0\n",
      " x[3,2] >= 0.0\n",
      " x[4,2] >= 0.0\n",
      " x[5,2] >= 0.0\n",
      " x[1,3] >= 0.0\n",
      " x[2,3] >= 0.0\n",
      " x[3,3] >= 0.0\n",
      " x[4,3] >= 0.0\n",
      " x[5,3] >= 0.0\n",
      " x[1,4] >= 0.0\n",
      " x[2,4] >= 0.0\n",
      " x[3,4] >= 0.0\n",
      " x[4,4] >= 0.0\n",
      " x[5,4] >= 0.0\n",
      " x[1,5] >= 0.0\n",
      " x[2,5] >= 0.0\n",
      " x[3,5] >= 0.0\n",
      " x[4,5] >= 0.0\n",
      " x[5,5] >= 0.0\n",
      "\n",
      "Welcome to the CBC MILP Solver \n",
      "Version: 2.10.3 \n",
      "Build Date: Jan  1 1970 \n",
      "\n",
      "command line - Cbc_C_Interface -solve -quit (default strategy 1)\n",
      "Presolve 10 (0) rows, 25 (0) columns and 50 (0) elements\n",
      "0  Obj 0 Primal inf 820 (10)\n",
      "9  Obj 1450\n",
      "Optimal - objective value 1450\n",
      "Optimal objective 1450 - 9 iterations time 0.002\n",
      "Total time (CPU seconds):       0.00   (Wallclock seconds):       0.00\n",
      "\n"
     ]
    }
   ],
   "source": [
    "# Supply\n",
    "# [Clev, Bost, Houst, Los A, Wash]\n",
    "# Demand\n",
    "# [Trum, NY, Atla, Chi, SanF]\n",
    "\n",
    "m = Model(Cbc.Optimizer)\n",
    "x0 = [0 0 0 45 0;\n",
    "10 80 0 0 0;\n",
    "55 0 0 30 10;\n",
    "0 0 0 0 75;\n",
    "55 0 0 50 0]\n",
    "\n",
    "@variable(m, x[1:5, 1:5] >= 0)\n",
    "for i in 1:5\n",
    "    for j in 1:5\n",
    "        set_start_value(x[i, j], x0[i, j])\n",
    "    end\n",
    "end\n",
    "\n",
    "\n",
    "demand = [120 80 50 75 85]\n",
    "@constraint(m, const_demand[i=1:5], sum(x[:, i]) == demand[i])\n",
    "\n",
    "supply = [45 90 95 75 105]\n",
    "@constraint(m, const_supply[i=1:5], sum(x[i, :]) == supply[i])\n",
    "\n",
    "costs = [6 6 9 4 10;\n",
    "3 2 7 5 12;\n",
    "8 7 5 6 4;\n",
    "11 12 9 5 2;\n",
    "4 3 4 5 11]\n",
    "@objective(m, Min, sum(x .* costs))\n",
    "println(m)\n",
    "optimize!(m)"
   ]
  },
  {
   "cell_type": "code",
   "execution_count": 50,
   "metadata": {},
   "outputs": [
    {
     "data": {
      "text/plain": [
       "\"Solução original\""
      ]
     },
     "metadata": {},
     "output_type": "display_data"
    },
    {
     "data": {
      "text/plain": [
       "5×5 Array{Int64,2}:\n",
       "  0   0  0  45   0\n",
       " 10  80  0   0   0\n",
       " 55   0  0  30  10\n",
       "  0   0  0   0  75\n",
       " 55   0  0  50   0"
      ]
     },
     "metadata": {},
     "output_type": "display_data"
    },
    {
     "data": {
      "text/plain": [
       "\"Solução encontrada\""
      ]
     },
     "metadata": {},
     "output_type": "display_data"
    },
    {
     "data": {
      "text/plain": [
       "5×5 Array{Float64,2}:\n",
       "   0.0   0.0   0.0  45.0   0.0\n",
       "  15.0  75.0   0.0   0.0   0.0\n",
       "   0.0   5.0  50.0  30.0  10.0\n",
       "   0.0   0.0   0.0   0.0  75.0\n",
       " 105.0   0.0   0.0   0.0   0.0"
      ]
     },
     "metadata": {},
     "output_type": "display_data"
    }
   ],
   "source": [
    "display(\"Solução original\")\n",
    "display(x0)\n",
    "display(\"Solução encontrada\")\n",
    "display(JuMP.value.(x))\n"
   ]
  },
  {
   "cell_type": "code",
   "execution_count": 2,
   "metadata": {},
   "outputs": [
    {
     "name": "stdout",
     "output_type": "stream",
     "text": [
      "Min 6 x[1,1] + 3 x[2,1] + 8 x[3,1] + 11 x[4,1] + 4 x[5,1] + 6 x[1,2] + 2 x[2,2] + 7 x[3,2] + 12 x[4,2] + 3 x[5,2] + 9 x[1,3] + 7 x[2,3] + 5 x[3,3] + 9 x[4,3] + 4 x[5,3] + 4 x[1,4] + 5 x[2,4] + 6 x[3,4] + 5 x[4,4] + 5 x[5,4] + 10 x[1,5] + 12 x[2,5] + 4 x[3,5] + 2 x[4,5] + 11 x[5,5]\n",
      "Subject to\n",
      " const_demand[1] : x[1,1] + x[2,1] + x[3,1] + x[4,1] + x[5,1] == 120.0\n",
      " const_demand[2] : x[1,2] + x[2,2] + x[3,2] + x[4,2] + x[5,2] == 80.0\n",
      " const_demand[3] : x[1,3] + x[2,3] + x[3,3] + x[4,3] + x[5,3] == 50.0\n",
      " const_demand[4] : x[1,4] + x[2,4] + x[3,4] + x[4,4] + x[5,4] == 75.0\n",
      " const_demand[5] : x[1,5] + x[2,5] + x[3,5] + x[4,5] + x[5,5] == 85.0\n",
      " const_supply[1] : x[1,1] + x[1,2] + x[1,3] + x[1,4] + x[1,5] == 45.0\n",
      " const_supply[2] : x[2,1] + x[2,2] + x[2,3] + x[2,4] + x[2,5] == 90.0\n",
      " const_supply[3] : x[3,1] + x[3,2] + x[3,3] + x[3,4] + x[3,5] == 95.0\n",
      " const_supply[4] : x[4,1] + x[4,2] + x[4,3] + x[4,4] + x[4,5] == 75.0\n",
      " const_supply[5] : x[5,1] + x[5,2] + x[5,3] + x[5,4] + x[5,5] == 105.0\n",
      " x[1,1] >= 0.0\n",
      " x[2,1] >= 0.0\n",
      " x[3,1] >= 0.0\n",
      " x[4,1] >= 0.0\n",
      " x[5,1] >= 0.0\n",
      " x[1,2] >= 0.0\n",
      " x[2,2] >= 0.0\n",
      " x[3,2] >= 0.0\n",
      " x[4,2] >= 0.0\n",
      " x[5,2] >= 0.0\n",
      " x[1,3] >= 0.0\n",
      " x[2,3] >= 0.0\n",
      " x[3,3] >= 0.0\n",
      " x[4,3] >= 0.0\n",
      " x[5,3] >= 0.0\n",
      " x[1,4] >= 0.0\n",
      " x[2,4] >= 0.0\n",
      " x[3,4] >= 0.0\n",
      " x[4,4] >= 0.0\n",
      " x[5,4] >= 0.0\n",
      " x[1,5] >= 0.0\n",
      " x[2,5] >= 0.0\n",
      " x[3,5] >= 0.0\n",
      " x[4,5] >= 0.0\n",
      " x[5,5] >= 0.0\n",
      "\n",
      "Welcome to the CBC MILP Solver \n",
      "Version: 2.10.3 \n",
      "Build Date: Jan  1 1970 \n",
      "\n",
      "command line - Cbc_C_Interface -solve -quit (default strategy 1)\n",
      "Presolve 10 (0) rows, 25 (0) columns and 50 (0) elements\n",
      "0  Obj 0 Primal inf 820 (10)\n",
      "9  Obj 1450\n",
      "Optimal - objective value 1450\n",
      "Optimal objective 1450 - 9 iterations time 0.002\n",
      "Total time (CPU seconds):       0.00   (Wallclock seconds):       0.00\n",
      "\n"
     ]
    }
   ],
   "source": [
    "# Supply\n",
    "# [Clev, Bost, Houst, Los A, Wash]\n",
    "# Demand\n",
    "# [Trum, NY, Atla, Chi, SanF]\n",
    "\n",
    "m = Model(Cbc.Optimizer)\n",
    "x0 = [0 0 0 45 0;\n",
    "10 80 0 0 0;\n",
    "55 0 0 30 10;\n",
    "0 0 0 0 75;\n",
    "55 0 0 50 0]\n",
    "@variable(m, x[1:5, 1:5] >= 0)\n",
    "\n",
    "demand = [120 80 50 75 85]\n",
    "@constraint(m, const_demand[i=1:5], sum(x[:, i]) == demand[i])\n",
    "\n",
    "supply = [45 90 95 75 105]\n",
    "@constraint(m, const_supply[i=1:5], sum(x[i, :]) == supply[i])\n",
    "\n",
    "costs = [6 6 9 4 10;\n",
    "3 2 7 5 12;\n",
    "8 7 5 6 4;\n",
    "11 12 9 5 2;\n",
    "4 3 4 5 11]\n",
    "@objective(m, Min, sum(x .* costs))\n",
    "println(m)\n",
    "optimize!(m)"
   ]
  },
  {
   "cell_type": "markdown",
   "metadata": {},
   "source": [
    "Without the initial value it takes the same amount of iterations to get to the result.\n",
    "\n",
    "## Exercise 13\n",
    "\n",
    "Production of calculators for six months $\\{jan, \\dots, jun\\}$ with a regular production and a over-time production."
   ]
  },
  {
   "cell_type": "code",
   "execution_count": 10,
   "metadata": {},
   "outputs": [
    {
     "name": "stdout",
     "output_type": "stream",
     "text": [
      "Min 10 regular[1] + 10 regular[2] + 10 regular[3] + 10 regular[4] + 10 regular[5] + 10 regular[6] + 12 overtime[1] + 12 overtime[2] + 12 overtime[3] + 12 overtime[4] + 12 overtime[5] + 12 overtime[6] + 0.5 month_month[1] + 0.5 month_month[2] + 0.5 month_month[3] + 0.5 month_month[4] + 0.5 month_month[5]\n",
      "Subject to\n",
      " demand_jan : regular[1] + overtime[1] - month_month[1] == 100.0\n",
      " demand_jun : regular[6] + overtime[6] + month_month[5] == 150.0\n",
      " demand_const[2] : regular[2] + overtime[2] + month_month[1] - month_month[2] >= 150.0\n",
      " demand_const[3] : regular[3] + overtime[3] + month_month[2] - month_month[3] >= 200.0\n",
      " demand_const[4] : regular[4] + overtime[4] + month_month[3] - month_month[4] >= 100.0\n",
      " demand_const[5] : regular[5] + overtime[5] + month_month[4] - month_month[5] >= 200.0\n",
      " regular_const[1] : regular[1] <= 100.0\n",
      " regular_const[2] : regular[2] <= 100.0\n",
      " regular_const[3] : regular[3] <= 100.0\n",
      " regular_const[4] : regular[4] <= 100.0\n",
      " regular_const[5] : regular[5] <= 100.0\n",
      " regular_const[6] : regular[6] <= 100.0\n",
      " overtime_const[1] : overtime[1] <= 75.0\n",
      " overtime_const[2] : overtime[2] <= 75.0\n",
      " overtime_const[3] : overtime[3] <= 75.0\n",
      " overtime_const[4] : overtime[4] <= 75.0\n",
      " overtime_const[5] : overtime[5] <= 75.0\n",
      " overtime_const[6] : overtime[6] <= 75.0\n",
      " regular[1] >= 0.0\n",
      " regular[2] >= 0.0\n",
      " regular[3] >= 0.0\n",
      " regular[4] >= 0.0\n",
      " regular[5] >= 0.0\n",
      " regular[6] >= 0.0\n",
      " overtime[1] >= 0.0\n",
      " overtime[2] >= 0.0\n",
      " overtime[3] >= 0.0\n",
      " overtime[4] >= 0.0\n",
      " overtime[5] >= 0.0\n",
      " overtime[6] >= 0.0\n",
      " month_month[1] >= 0.0\n",
      " month_month[2] >= 0.0\n",
      " month_month[3] >= 0.0\n",
      " month_month[4] >= 0.0\n",
      " month_month[5] >= 0.0\n",
      "\n",
      "Welcome to the CBC MILP Solver \n",
      "Version: 2.10.3 \n",
      "Build Date: Jan  1 1970 \n",
      "\n",
      "command line - Cbc_C_Interface -solve -quit (default strategy 1)\n",
      "Presolve 6 (-12) rows, 17 (0) columns and 22 (-12) elements\n",
      "Perturbing problem by 0.001% of 12 - largest nonzero change 4.5603565e-05 ( 0.009120713%) - largest zero change 0\n",
      "0  Obj 771.90205 Primal inf 825.30001 (6)\n",
      "14  Obj 9625.0036\n",
      "Optimal - objective value 9625\n",
      "After Postsolve, objective 9625, infeasibilities - dual 0 (0), primal 0 (0)\n",
      "Optimal objective 9625 - 14 iterations time 0.062, Presolve 0.05\n",
      "Total time (CPU seconds):       0.06   (Wallclock seconds):       0.06\n",
      "\n"
     ]
    }
   ],
   "source": [
    "m = Model(Cbc.Optimizer)\n",
    "\n",
    "#regular supply\n",
    "@variable(m, regular[1:6] >= 0)\n",
    "\n",
    "#over-time supply\n",
    "@variable(m, overtime[1:6] >= 0)\n",
    "\n",
    "#month-to-month supply\n",
    "@variable(m, month_month[1:5] >= 0)\n",
    "\n",
    "#normal production constraint\n",
    "@constraint(m, regular_const[i = 1:6], regular[i] <= 100)\n",
    "\n",
    "#over-time production constraint\n",
    "@constraint(m, overtime_const[i = 1:6], overtime[i] <= 75)\n",
    "\n",
    "demand = [100 150 200 100 200 150]\n",
    "#balance constraint\n",
    "@constraint(m, demand_jan, regular[1] + overtime[1] - month_month[1] == demand[1]) \n",
    "@constraint(m, demand_const[i = 2:5], regular[i] + overtime[i] - month_month[i] + month_month[i - 1] >= demand[i])\n",
    "@constraint(m, demand_jun, regular[6] + overtime[6] + month_month[5] == demand[6])\n",
    "\n",
    "@objective(m, Min, sum(regular * 10) + sum(overtime * 12) + sum(month_month * 0.5))\n",
    "println(m)\n",
    "optimize!(m)"
   ]
  },
  {
   "cell_type": "code",
   "execution_count": 21,
   "metadata": {},
   "outputs": [
    {
     "data": {
      "text/plain": [
       "\"Produção regular\""
      ]
     },
     "metadata": {},
     "output_type": "display_data"
    },
    {
     "data": {
      "text/plain": [
       "6-element Array{Float64,1}:\n",
       " 100.0\n",
       " 100.0\n",
       " 100.0\n",
       " 100.0\n",
       " 100.0\n",
       " 100.0"
      ]
     },
     "metadata": {},
     "output_type": "display_data"
    },
    {
     "data": {
      "text/plain": [
       "\"Produção overtime\""
      ]
     },
     "metadata": {},
     "output_type": "display_data"
    },
    {
     "data": {
      "text/plain": [
       "6-element Array{Float64,1}:\n",
       "  0.0\n",
       " 75.0\n",
       " 75.0\n",
       " 25.0\n",
       " 75.0\n",
       " 50.0"
      ]
     },
     "metadata": {},
     "output_type": "display_data"
    },
    {
     "data": {
      "text/plain": [
       "\"Passagem mês para mês\""
      ]
     },
     "metadata": {},
     "output_type": "display_data"
    },
    {
     "data": {
      "text/plain": [
       "5-element Array{Float64,1}:\n",
       "  0.0\n",
       " 25.0\n",
       "  0.0\n",
       " 25.0\n",
       "  0.0"
      ]
     },
     "metadata": {},
     "output_type": "display_data"
    },
    {
     "data": {
      "text/plain": [
       "\"Produção total em cada mês\""
      ]
     },
     "metadata": {},
     "output_type": "display_data"
    },
    {
     "data": {
      "text/plain": [
       "6-element Array{Float64,1}:\n",
       " 100.0\n",
       " 175.0\n",
       " 200.0\n",
       " 125.0\n",
       " 200.0\n",
       " 150.0"
      ]
     },
     "metadata": {},
     "output_type": "display_data"
    }
   ],
   "source": [
    "display(\"Produção regular\")\n",
    "display(JuMP.value.(regular))\n",
    "display(\"Produção overtime\")\n",
    "display(JuMP.value.(overtime))\n",
    "display(\"Passagem mês para mês\")\n",
    "display(JuMP.value.(month_month))\n",
    "display(\"Produção total em cada mês\")\n",
    "display(JuMP.value.(regular) + JuMP.value.(overtime) + [0; JuMP.value.(month_month)])"
   ]
  },
  {
   "cell_type": "code",
   "execution_count": null,
   "metadata": {},
   "outputs": [],
   "source": []
  }
 ],
 "metadata": {
  "kernelspec": {
   "display_name": "Julia 1.5.3",
   "language": "julia",
   "name": "julia-1.5"
  },
  "language_info": {
   "file_extension": ".jl",
   "mimetype": "application/julia",
   "name": "julia",
   "version": "1.5.3"
  }
 },
 "nbformat": 4,
 "nbformat_minor": 4
}
