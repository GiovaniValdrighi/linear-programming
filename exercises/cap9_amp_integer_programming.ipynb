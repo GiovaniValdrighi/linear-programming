{
 "cells": [
  {
   "cell_type": "code",
   "execution_count": 1,
   "metadata": {},
   "outputs": [],
   "source": [
    "using JuMP\n",
    "using Cbc"
   ]
  },
  {
   "cell_type": "markdown",
   "metadata": {},
   "source": [
    "# Integer programming \n",
    "\n",
    "## 1. \n",
    "\n",
    "As the leader of an oil-exploration drilling venture, you must determine the least-cost selection of $5$ out of $10$ possible\n",
    "sites. Label the sites $S_1, S_2, \\dots , S_10,$ and the exploration costs associated with each as $C_1,C_2, . . . ,C_10$.\n",
    "\n",
    "Regional development restrictions are such that:\n",
    "\n",
    "i) Evaluating sites $S_1$ and $S_7$ will prevent you from exploring site $S_8$.\n",
    "   \n",
    "ii) Evaluating site $S_3$ or $S_4$ prevents you from assessing site $S_5$.\n",
    "    \n",
    "iii) Of the group $S_5, S_6, S_7, S_8,$ only two sites may be assessed.\n",
    "    \n",
    "Formulate an integer program to determine the minimum-cost exploration scheme that satisfies these restrictions.\n",
    "\n",
    "__Solution:__\n",
    "\n",
    "First we define $S_1, S_2, \\dots, S_10$ as binary variables, if $S_i = 1$ the site $i$ is going to be select. Our objective function is to minimize the costs, it is:\n",
    "\n",
    "$$\\min {\\sum_{i=1}^{10}} S_i C_i$$\n",
    "\n",
    "We must select $5$ sites, so the sum of the binary variables must be $5$:\n",
    "\n",
    "$$\\sum_{i = 1}^{10}S_i = 5$$\n",
    "\n",
    "In the first constraint we must have that if $S_1=1$ and $S_7=1 \\implies S_8 = 0$. We can define this by:\n",
    "\n",
    "$$S_8 \\leq 2 - (S_1 + S_7)$$\n",
    "\n",
    "If $S_1$ or $S_7$ is $0$ the constraint has no effect, as $S_8$ is binary.\n",
    "\n",
    "In the second constraint we have an or situation, if $S_3=1$ or $S_4=1 \\implies S_5 = 0$. We can represent by:\n",
    "\n",
    "$$S_5 \\leq 1 - S_3$$\n",
    "\n",
    "$$S_5 \\leq 1 - S_4$$\n",
    "\n",
    "If $S_3$ or $S_4$ equals $1$, then we will have $S_5 \\leq 0 \\implies S_5 = 0$.\n",
    "\n",
    "In the third constraint we have that only two variables (at max) from the set $\\{S_5, S_6, S_7, S_8\\}$ must be acessed. So:\n",
    "\n",
    "$$S_5 + S_6 + S_7 + S_8 \\leq 2 $$\n",
    "\n",
    "Our final integer program is:\n",
    "\n",
    "$$$$\n",
    "$$\n",
    "\\begin{align}\n",
    "& \\min {\\sum_{i=1}^{10}} S_i C_i \\\\\n",
    "\\text{subject to} & \\\\\n",
    "& \\sum_{i = 1}^{10}S_i = 5 \\\\\n",
    "& S_8 \\leq 2 - (S_1 + S_7) \\\\\n",
    "& S_5 \\leq 1 - S_3 \\\\\n",
    "& S_5 \\leq 1 - S_4 \\\\\n",
    "& S_5 + S_6 + S_7 + S_8 \\leq 2 \\\\\n",
    "& S_i \\geq 0, S_i \\leq 1, i \\in \\{1, \\dots, 10\\} \\\\\n",
    "& S_i \\in \\mathbb{Z}, i \\in \\{1, \\dots, 10\\} \\\\ \n",
    "\\end{align}\n",
    "$$\n",
    "\n",
    "## 3.\n",
    "\n",
    "The marketing group of A. J. Pitt Company is considering the options available for its next advertising campaign\n",
    "program. After a great deal of work, the group has identified a selected number of options with the characteristics\n",
    "shown in the accompanying table.\n",
    "\n",
    "\n",
    "--- | TV | Trage Magazine| Newspaper | Radio | Popular Magazine | Promotional Magazine | Total resource available\n",
    "--- | --- | --- | --- | --- | --- | --- | ---\n",
    "Customers reached | 1,000,000 | 200,000 | 300,000 | 400,000 | 450,000 | 450,000 | ---\n",
    "Cost($) | 500,000 | 150,000 | 300,000 | 250,000 | 250,000 | 100,000 | 1,800,000\n",
    "Designers needed (man-hours) | 700 | 250 | 200 | 200 | 300 | 400 | 1,500\n",
    "Salesmen needed (man-hours) | 200 | 100 | 100 | 100 | 100 | 1,000 | 1,200\n",
    "\n",
    "The objective of the advertising program is to maximize the number of customers reached, subject to the\n",
    "limitation of resources (money, designers, and salesman) given in the table above. In addition, the following\n",
    "constraints have to be met:\n",
    "\n",
    "i) If the promotional campaign is undertaken, it needs either a radio or a popular magazine campaign effort to\n",
    "support it.\n",
    "\n",
    "ii) The firm cannot advertise in both the trade and popular magazines.\n",
    "\n",
    "Formulate an integer-programming model that will assist the company to select an appropriate advertising campaign\n",
    "strategy.\n",
    "\n",
    "__Solution__:\n",
    "\n",
    "Initially we create variables $X_i, i \\in \\{1, 2, 3, 4, 5, 6\\}$ that indicates if the campaign of type __{TV, Trage Magazine, Newspaper, Radio, Popular Magazine, Promotional Magazine}__ is choosen (in this order). $X_i$ are binary variables, and $X_i = 1$ indicates that the $i$-th campaign is choosen."
   ]
  },
  {
   "cell_type": "code",
   "execution_count": 8,
   "metadata": {},
   "outputs": [],
   "source": [
    "ad_campaign = Model(Cbc.Optimizer)\n",
    "@variable(ad_campaign, X[i = 1:6], binary = true);"
   ]
  },
  {
   "cell_type": "markdown",
   "metadata": {},
   "source": [
    "We need to create the first restrictions for the cost, the designers needed and the salesman needed. The cost for each campaign (in the order) is: $c = [\\$500000, \\$150000, \\$300000, \\$250000, \\$250000, \\$100000]$. The total money available is $\\$1800000$. So our constraint will be:\n",
    "\n",
    "$$\\sum_{i = 1}^6 X_i c_i \\leq 1800000$$"
   ]
  },
  {
   "cell_type": "code",
   "execution_count": 9,
   "metadata": {},
   "outputs": [],
   "source": [
    "costs = [500000, 150000, 300000, 250000, 250000, 10000]\n",
    "@constraint(ad_campaign, sum(X.*costs) <= 1800000);"
   ]
  },
  {
   "cell_type": "markdown",
   "metadata": {},
   "source": [
    "The quantity of hours of work needed from the designers for each campaign is: $d =[700, 250, 200, 200, 300, 400]$. Our limit is $1500$ hours.\n",
    "\n",
    "$$\\sum_{i = 1}^6 X_i d_i \\leq 1500$$"
   ]
  },
  {
   "cell_type": "code",
   "execution_count": 10,
   "metadata": {},
   "outputs": [],
   "source": [
    "designers_hours = [700, 250, 200, 200, 300, 400]\n",
    "@constraint(ad_campaign, sum(X.*designers_hours) <= 1500);"
   ]
  },
  {
   "cell_type": "markdown",
   "metadata": {},
   "source": [
    "The quantity of hours of work needed from the salesmen for each campaign is: $s =[200, 100, 100, 100, 100, 1000]$. Our limit is $1200$ hours.\n",
    "\n",
    "$$\\sum_{i = 1}^6 X_i s_i \\leq 1200$$"
   ]
  },
  {
   "cell_type": "code",
   "execution_count": 11,
   "metadata": {},
   "outputs": [],
   "source": [
    "salesmen_hours = [200, 100, 100, 100, 100, 1000]\n",
    "@constraint(ad_campaign, sum(X.*salesmen_hours) <= 1200);"
   ]
  },
  {
   "cell_type": "markdown",
   "metadata": {},
   "source": [
    "Now, for the special constraints we will have from the first that if $X_6 = 1$ we must have that $X_4 = 1$ or $X_5 = 1$. We will represent that with:\n",
    "\n",
    "$$X_6 \\leq X_4 + X_5$$"
   ]
  },
  {
   "cell_type": "code",
   "execution_count": 12,
   "metadata": {},
   "outputs": [],
   "source": [
    "@constraint(ad_campaign, X[6] <= X[4] + X[5]);"
   ]
  },
  {
   "cell_type": "markdown",
   "metadata": {},
   "source": [
    "In the second constraint we can't have both $X_2$ and $X_5$ equals to $1$. So:\n",
    "\n",
    "$$X_2 + X_5 \\leq 1$$"
   ]
  },
  {
   "cell_type": "code",
   "execution_count": 13,
   "metadata": {},
   "outputs": [],
   "source": [
    "@constraint(ad_campaign, X[2] + X[5] <= 1);"
   ]
  },
  {
   "cell_type": "markdown",
   "metadata": {},
   "source": [
    "Our objective function will be to maximize the number of costumers reached. In our order, each campaign can reach the following number of costumers: $k = [1000000, 200000, 300000, 400000, 450000, 450000]$.\n",
    "\n",
    "$$\\max{\\sum_{i = 1}^6 X_i k_i}$$"
   ]
  },
  {
   "cell_type": "code",
   "execution_count": 14,
   "metadata": {},
   "outputs": [],
   "source": [
    "costumers = [1000000, 200000, 300000, 400000, 450000, 4500000]\n",
    "@objective(ad_campaign, Max, sum(X.* costumers));"
   ]
  },
  {
   "cell_type": "code",
   "execution_count": 15,
   "metadata": {},
   "outputs": [
    {
     "data": {
      "text/latex": [
       "$$ \\begin{alignat*}{1}\\max\\quad & 1.0e6 X_{1} + 200000 X_{2} + 300000 X_{3} + 400000 X_{4} + 450000 X_{5} + 4.5e6 X_{6}\\\\\n",
       "\\text{Subject to} \\quad & 500000 X_{1} + 150000 X_{2} + 300000 X_{3} + 250000 X_{4} + 250000 X_{5} + 10000 X_{6} \\leq 1.8e6\\\\\n",
       " & 700 X_{1} + 250 X_{2} + 200 X_{3} + 200 X_{4} + 300 X_{5} + 400 X_{6} \\leq 1500.0\\\\\n",
       " & 200 X_{1} + 100 X_{2} + 100 X_{3} + 100 X_{4} + 100 X_{5} + 1000 X_{6} \\leq 1200.0\\\\\n",
       " & -X_{4} - X_{5} + X_{6} \\leq 0.0\\\\\n",
       " & X_{2} + X_{5} \\leq 1.0\\\\\n",
       " & X_{1} binary\\\\\n",
       " & X_{2} binary\\\\\n",
       " & X_{3} binary\\\\\n",
       " & X_{4} binary\\\\\n",
       " & X_{5} binary\\\\\n",
       " & X_{6} binary\\\\\n",
       "\\end{alignat*}\n",
       " $$"
      ],
      "text/plain": [
       "A JuMP Model\n",
       "Maximization problem with:\n",
       "Variables: 6\n",
       "Objective function type: GenericAffExpr{Float64,VariableRef}\n",
       "`GenericAffExpr{Float64,VariableRef}`-in-`MathOptInterface.LessThan{Float64}`: 5 constraints\n",
       "`VariableRef`-in-`MathOptInterface.ZeroOne`: 6 constraints\n",
       "Model mode: AUTOMATIC\n",
       "CachingOptimizer state: EMPTY_OPTIMIZER\n",
       "Solver name: COIN Branch-and-Cut (Cbc)\n",
       "Names registered in the model: X"
      ]
     },
     "metadata": {},
     "output_type": "display_data"
    }
   ],
   "source": [
    "display(ad_campaign)"
   ]
  },
  {
   "cell_type": "code",
   "execution_count": 16,
   "metadata": {},
   "outputs": [
    {
     "name": "stdout",
     "output_type": "stream",
     "text": [
      "Welcome to the CBC MILP Solver \n",
      "Version: 2.10.3 \n",
      "Build Date: Jan  1 1970 \n",
      "\n",
      "command line - Cbc_C_Interface -solve -quit (default strategy 1)\n",
      "Continuous objective value is 5.5e+06 - 0.01 seconds\n",
      "Cgl0003I 0 fixed, 0 tightened bounds, 1 strengthened rows, 0 substitutions\n",
      "Cgl0004I processed model has 4 rows, 6 columns (6 integer (6 of which binary)) and 17 elements\n",
      "Cbc0012I Integer solution of -4950000 found by DiveCoefficient after 0 iterations and 0 nodes (0.03 seconds)\n",
      "Cbc0012I Integer solution of -5350000 found by DiveCoefficient after 2 iterations and 0 nodes (0.04 seconds)\n",
      "Cbc0013I At root node, 0 cuts changed objective from -5450000 to -5350000 in 2 passes\n",
      "Cbc0014I Cut generator 0 (Probing) - 3 row cuts average 3.0 elements, 1 column cuts (1 active)  in 0.000 seconds - new frequency is 1\n",
      "Cbc0014I Cut generator 1 (Gomory) - 0 row cuts average 0.0 elements, 0 column cuts (0 active)  in 0.000 seconds - new frequency is -100\n",
      "Cbc0014I Cut generator 2 (Knapsack) - 0 row cuts average 0.0 elements, 0 column cuts (0 active)  in 0.000 seconds - new frequency is -100\n",
      "Cbc0014I Cut generator 3 (Clique) - 0 row cuts average 0.0 elements, 0 column cuts (0 active)  in 0.000 seconds - new frequency is -100\n",
      "Cbc0014I Cut generator 4 (MixedIntegerRounding2) - 0 row cuts average 0.0 elements, 0 column cuts (0 active)  in 0.000 seconds - new frequency is -100\n",
      "Cbc0014I Cut generator 5 (FlowCover) - 0 row cuts average 0.0 elements, 0 column cuts (0 active)  in 0.000 seconds - new frequency is -100\n",
      "Cbc0001I Search completed - best objective -5350000, took 2 iterations and 0 nodes (0.04 seconds)\n",
      "Cbc0035I Maximum depth 0, 1 variables fixed on reduced cost\n",
      "Cuts at root node changed objective from -5.45e+06 to -5.35e+06\n",
      "Probing was tried 2 times and created 4 cuts of which 0 were active after adding rounds of cuts (0.000 seconds)\n",
      "Gomory was tried 2 times and created 0 cuts of which 0 were active after adding rounds of cuts (0.000 seconds)\n",
      "Knapsack was tried 2 times and created 0 cuts of which 0 were active after adding rounds of cuts (0.000 seconds)\n",
      "Clique was tried 2 times and created 0 cuts of which 0 were active after adding rounds of cuts (0.000 seconds)\n",
      "MixedIntegerRounding2 was tried 2 times and created 0 cuts of which 0 were active after adding rounds of cuts (0.000 seconds)\n",
      "FlowCover was tried 2 times and created 0 cuts of which 0 were active after adding rounds of cuts (0.000 seconds)\n",
      "TwoMirCuts was tried 1 times and created 0 cuts of which 0 were active after adding rounds of cuts (0.000 seconds)\n",
      "ZeroHalf was tried 1 times and created 0 cuts of which 0 were active after adding rounds of cuts (0.001 seconds)\n",
      "\n",
      "Result - Optimal solution found\n",
      "\n",
      "Objective value:                5350000.00000000\n",
      "Enumerated nodes:               0\n",
      "Total iterations:               2\n",
      "Time (CPU seconds):             0.04\n",
      "Time (Wallclock seconds):       0.04\n",
      "\n",
      "Total time (CPU seconds):       0.05   (Wallclock seconds):       0.05\n",
      "\n"
     ]
    }
   ],
   "source": [
    "optimize!(ad_campaign)"
   ]
  },
  {
   "cell_type": "markdown",
   "metadata": {},
   "source": [
    "This model is really simple and we can see the solution, the choosen campaigns:"
   ]
  },
  {
   "cell_type": "code",
   "execution_count": 31,
   "metadata": {},
   "outputs": [
    {
     "name": "stdout",
     "output_type": "stream",
     "text": [
      "Model solution:\n",
      "   Radio\n",
      "   Popular Magazine\n",
      "   Promotional Magazine\n",
      "Total costumers reached:5350000\n"
     ]
    }
   ],
   "source": [
    "campaigns = [\"TV\", \"Trage Magazine\", \"Newspaper\", \"Radio\", \"Popular Magazine\", \"Promotional Magazine\"]\n",
    "println(\"Model solution:\")\n",
    "for i = 1:6\n",
    "    if value.(X)[i] == 1.\n",
    "        println(\"   \" * campaigns[i])\n",
    "    end\n",
    "end\n",
    "println(\"Total costumers reached:\" * string(Int(objective_value(ad_campaign))))"
   ]
  }
 ],
 "metadata": {
  "kernelspec": {
   "display_name": "Julia 1.5.3",
   "language": "julia",
   "name": "julia-1.5"
  },
  "language_info": {
   "file_extension": ".jl",
   "mimetype": "application/julia",
   "name": "julia",
   "version": "1.5.3"
  }
 },
 "nbformat": 4,
 "nbformat_minor": 4
}
