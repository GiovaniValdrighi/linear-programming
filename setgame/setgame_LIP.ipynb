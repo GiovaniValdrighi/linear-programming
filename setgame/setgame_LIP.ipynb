{
 "cells": [
  {
   "cell_type": "markdown",
   "metadata": {},
   "source": [
    "# Set Game\n",
    "\n",
    "## Índice\n",
    "1. [Apresentação](#section1)\n",
    "2. [Formulação](#section2)\n",
    "    - 2.1 [Cartas devem ser uma das 12 possíveis](#subsection21)\n",
    "    - 2.2 [Conjuntos devem ser válidos ](#subsection22)\n",
    "    - 2.3 [Cartas distintas](#subsection23)\n",
    "    - 2.4 [Conjuntos distintos](#subsection24)\n",
    "3. [Solução](#section3)\n",
    "4. [Função de criação modelo](#section4)\n",
    "    - 4.1 [Exemplo](#subsection41)\n",
    "    \n",
    "## 1. Apresentação <a name=\"section1\"></a>\n",
    "\n",
    "O Set Game é um jogo de cartas projetado por Marsha Falco em 1974 que consiste em um baralho de 81 cartas únicas que possuem 4 caracaterísticas cada: um símbolo, a cor desse símbolo, o estilo de preenchimento desse símbolo e o número de repetições desse símbolo. Cada uma dessas características podem assumir 3 valores distintos. A imagem abaixo exemplifica 3 cartas diferentes e as características possíveis: \n",
    "\n",
    "<img src = \"cards_example.png\"></img>\n",
    "\n",
    "Nessa imagem podemos ver os possíveis valores de cada característica:\n",
    "\n",
    "- __Símbolo__: diamante, curvado e oval;\n",
    "\n",
    "- __Cor do símbolo__: verde, roxo e vermelho;\n",
    "\n",
    "- __Estilo de preenchimento__: vazio, listrado e completo;\n",
    "\n",
    "- __Quantidade de símbolos__: um, dois ou três;\n",
    "\n",
    "Determinadas combinações de 3 cartas podem formar um conjunto válido (__set__), para isso ocorrer, __cada uma das características dessas três cartas deve ser igual em todas as cartas, ou diferente em cada uma delas__. A imagem acima é um conjunto válido, pois as 3 cartas possuem os símbolos distintos, as cores distintas, os estilos de preenchimento distinto e a quantidade de símbolos distinta. Caso a última carta fosse roxa e não vermelha, não teríamos um conjunto válido, pois teríamos uma carta verde e duas cartas roxas (precisamos que sejam as três iguais ou três distintas).\n",
    "\n",
    "O objetivo do jogo é formar esses conjuntos válidos a partir de um grupo de cartas aleatório, uma versão online desse jogo está disponível no site [The Daily SET Puzzle](https://www.setgame.com/set/puzzle), nele diariamente são sorteadas 12 cartas e o objetivo é formar 6 conjuntos válidos distintos. Nesse trabalho iremos modelar esta versão do jogo através de programação linear e inteira.\n",
    "\n",
    "## 2. Formulação do problema <a name=\"section2\"></a>"
   ]
  },
  {
   "cell_type": "code",
   "execution_count": 1,
   "metadata": {},
   "outputs": [],
   "source": [
    "using JuMP\n",
    "using Cbc\n",
    "using Printf"
   ]
  },
  {
   "cell_type": "markdown",
   "metadata": {},
   "source": [
    "Cada carta será representada por um vetor de dimensão 4, cada uma dessas dimensões representará uma característica da carta: cor, símbolo, preenchimento, e o número de símbolos.\n",
    "\n",
    "Cada uma dessas características pode assumir três valores distintos, para cada uma delas iremos representar os valores através dos números de 1 a 3:\n",
    "\n",
    "- __Cor__ : 1 - vermelho; 2 - verde; 3 - roxo;\n",
    "\n",
    "- __Símbolo__: 1 - curvado; 2 - diamante; 3 - oval;\n",
    "\n",
    "- __Preenchimento__: 1 - completo; 2 - listrado; 3 - vazio;\n",
    "\n",
    "- __Número__: 1; 2; 3; (vai se manter)\n",
    "\n",
    "Dessa forma, seja $c$ uma carta, temos que $c \\in \\{1, 2, 3\\}^4$. O objetivo do jogo é dado um conjunto de 12 cartas, formar 6 conjuntos válidos distintos que possuem cada um 3 cartas. Um conjunto válido de 3 cartas é um conjunto tal que seja $x$, $y$, $z$ essas cartas, temos que:\n",
    "$$x_i = y_i = z_i \\quad \\text{ou} \\quad (x_i \\neq y_i \\land y_i \\neq z_i \\land x_i \\neq z_i)  \\quad \\forall i \\in \\{1, 2, 3, 4\\} $$\n",
    "\n",
    "Ou seja, para cada uma das características da cada, ou as 3 cartas possuem essa característica igual, ou as 3 cartas possuem diferentes características.\n",
    "\n",
    "O nosso objetivo é encontrar as cartas que formas os 6 conjuntos válidos (distintos) dentre as 12 cartas possíveis. \n",
    "\n",
    "Criamos a variável $C_{6\\times 3 \\times 4}$, a primeira dimensão representa os 6 conjuntos distintos, a segunda dimensão representa as 3 cartas distintas de cada conjunto, e a terceira dimensão representa as 4 características de cada carta."
   ]
  },
  {
   "cell_type": "code",
   "execution_count": 2,
   "metadata": {},
   "outputs": [],
   "source": [
    "setgame = Model(Cbc.Optimizer) \n",
    "@variable(setgame, C[1:6, 1:3, 1:4]);"
   ]
  },
  {
   "cell_type": "markdown",
   "metadata": {},
   "source": [
    "### 2.1 Cartas devem ser uma das 12 possíveis <a name=\"subsection21\"></a>\n",
    "\n",
    "Vamos representar por $c_{ij}$ a $j$-ésima carta pertencente ao $i$-ésimo conjunto válido. Para cada $c_{ij}$ criamos 12 variáveis binárias $b_{ijk}, k \\in \\{1, \\dots, 12\\}$ que serão utilizadas para indicar que a carta deve ser igual a pelo menos uma das 12 cartas disponíveis, por exemplo, se $b_{113} = 1$ temos que a primeira carta do primeiro conjunto é igual a terceira carta do nosso conjunto de cartas possíveis. Seja $D$ ese conjunto (com alguma ordem), formulamos:\n",
    "\n",
    "$$\\text{para cada } i, j$$\n",
    "$$c_{ij} == \\sum_{k = 1}^{12} D_k b_{ijk} \\quad \\forall k \\in \\{1, \\dots, 12\\}$$\n",
    "$$\\sum_{k = 1}^{12} b_{ijk} = 1$$\n",
    "$$b_{ijk} \\text{ binárias} \\quad \\forall k \\in \\{1, \\dots, 12\\}$$\n",
    "\n",
    "A primeira equação garante que $c_{ij}$ é igual a pelo menos uma linha de $D$, a segunda equação garante que apenas um dos $b_{ijk}$ será maior do que 0.\n",
    "\n",
    "Iniciante vamos criar o conjunto $D$ usando as cartas possíveis do dia 03/04/2021:\n",
    "\n",
    "<img src = \"possible_cards_03_04.png\"></img>"
   ]
  },
  {
   "cell_type": "code",
   "execution_count": 3,
   "metadata": {},
   "outputs": [],
   "source": [
    "#possible cards in 03/04/2021\n",
    "D = [[3 1 1 2];\n",
    "    [1 3 2 1];\n",
    "    [3 3 2 2];\n",
    "    [1 1 1 3];\n",
    "    [1 1 3 1];\n",
    "    [2 2 3 2];\n",
    "    [3 3 3 2];\n",
    "    [3 3 1 2];\n",
    "    [1 2 1 1];\n",
    "    [2 2 2 1];\n",
    "    [1 1 2 2];\n",
    "    [3 2 3 1]];"
   ]
  },
  {
   "cell_type": "markdown",
   "metadata": {},
   "source": [
    "Agora definimos as variáveis binárias:"
   ]
  },
  {
   "cell_type": "code",
   "execution_count": 4,
   "metadata": {},
   "outputs": [],
   "source": [
    "@variable(setgame, b[1:6, 1:3, 1:12], binary = true)\n",
    "\n",
    "#for each i,j the sum b_ijk is 1\n",
    "@constraint(setgame, sum_of_b[i = 1:6, j = 1:3], sum(b[i, j, :]) == 1)\n",
    "\n",
    "#equality constraints\n",
    "@constraint(setgame, equality_b[i = 1:6, j = 1:3, k = 1:4], C[i, j, k] == sum(D .* b[i, j, :], dims = 1)[k]);"
   ]
  },
  {
   "cell_type": "markdown",
   "metadata": {},
   "source": [
    "### 2.2 Conjuntos devem ser válidos <a name=\"subsection22\"></a>\n",
    "\n",
    "Vamos denominar por $c_{ijk}$ a $k$-ésima característica, da $j$-ésima carta, do $i$-ésimo conjunto. O segundo grupos de restrições que devemos considerar é que os conjuntos são válidos, isto é, para cada $i$, cada uma das dimensões das cartas $c_{i1}, c_{i2}, c_{i3}$ ou são todas iguais ou são todas distintas. Pela dificuldade de expressar as relações de \"ou\" e \"e\" presentes nessas restrições, vamos listar todas as combinações possíveis que cada coordenada das 3 cartas podem assumir (não são muitas), criando o conjunto $E$."
   ]
  },
  {
   "cell_type": "code",
   "execution_count": 5,
   "metadata": {},
   "outputs": [],
   "source": [
    "E = [[1 1 1];\n",
    "    [2 2 2];\n",
    "    [3 3 3];\n",
    "    [1 2 3];\n",
    "    [1 3 2];\n",
    "    [2 1 3];\n",
    "    [2 3 1];\n",
    "    [3 1 2];\n",
    "    [3 2 1]];"
   ]
  },
  {
   "cell_type": "markdown",
   "metadata": {},
   "source": [
    "Da mesma forma que fizemos que as cartas deveriam assumir algum valor de $D$ através das variáveis binárias $b_{ijk}$, para cada conjunto $i$ e para cada característica $k$ vamos definir as variáveis binárias $f_{ikl}, l \\in \\{1, \\dots, 9\\}$ que serão utilizadas para indicar que as características devem assumir pelo menos alguma combinação presente em $E$.\n",
    "$$\\text{para cada } i, k$$\n",
    "$$(c_{i1k}, c_{i2k}, c_{i3k}) == \\sum_{l = 1}^{9} E_k f_{ikl} \\quad \\forall l \\in \\{1, \\dots, 9\\}$$\n",
    "$$\\sum_{l = 1}^{9} f_{ikl} = 1$$\n",
    "$$f_{ikl} \\text{ binárias} \\quad \\forall l \\in \\{1, \\dots, 9\\}$$\n",
    "\n",
    "Novamente, a primeira restrição garante que o vetor $(c_{i1k}, c_{i2k}, c_{i3k})$ assume algum valor de $E$ (conjunto de vetores), já a segunda restrição garante que apenas uma das variáveis $f_{ikl}$ será diferente de 0."
   ]
  },
  {
   "cell_type": "code",
   "execution_count": 6,
   "metadata": {},
   "outputs": [],
   "source": [
    "@variable(setgame, f[1:6, 1:4, 1:9], binary = true)\n",
    "#for each i,k the sum f_ikl is 1\n",
    "@constraint(setgame, sum_of_f[i = 1:6, k = 1:4], sum(f[i, k, :]) == 1)\n",
    "\n",
    "#equality constraints\n",
    "@constraint(setgame, equality_f[i = 1:6, j = 1:3, k = 1:4], C[i, j, k] == sum(E .* f[i, k, :], dims = 1)[j]);"
   ]
  },
  {
   "cell_type": "markdown",
   "metadata": {},
   "source": [
    "### 2.3 Cartas distintas <a name=\"subsection23\"></a>\n",
    "\n",
    "Outra regra que torna o conjunto válido que se deve levar em conta, é que todas as cartas devem ser distintas (pois qualquer repetição de 3 vezes a mesma carta gera um conjunto válido), para isso retornaremos para as nossas variáveis $b_{ijk}$, para cada conjunto $i$, queremos que as variáveis $b_{i1k}$, $b_{i2k}$ e $b_{i3k}$ assumam valores iguais a $1$ para distintos valores de $k$, ou seja, para o mesmo $k$ a soma de $b_{i1k}$, $b_{i2k}$ e $b_{i3k}$  deve ser $0$ (quando nenhuma das cartas é a carta $k$ de $D$) ou $1$ (quando uma das cartas é a carta $k$ de $D$):\n",
    "\n",
    "$$\\text{para cada } i, k$$\n",
    "$$\\sum_{j = 1}^3 b_{ijk} \\leq 1$$"
   ]
  },
  {
   "cell_type": "code",
   "execution_count": 7,
   "metadata": {},
   "outputs": [],
   "source": [
    "#sets with different cards\n",
    "@constraint(setgame, different_cards[i = 1:6, k = 1:12], sum(b[i, :, k]) <= 1);"
   ]
  },
  {
   "cell_type": "markdown",
   "metadata": {},
   "source": [
    "### 2.4 Conjuntos distintos <a name=\"subsection24\"></a>\n",
    "\n",
    "O último grupo de restrições que devemos considerar é que cada conjunto de cartas deve ser distinto um do outro, isto é, para cada par de conjunto de cartas $i$ e $i'$ temos que os conjuntos não podem ser iguais, isto é, possuem pelo menos alguma carta distinta.\n",
    "\n",
    "Para isso usaremos novamente as variáveis $b_{ijk}$. Como não sabemos a ordem das cartas em cada conjunto de cartas, devemos comparar as 3 cartas do conjunto $i$ com as 3 cartas do conjunto $i'$ individualmente, tendo então 9 comparações, e pelo menos 7 das desigualdades devem valer, para isso utilizaremos novas variáveis binárias $g_{ii'jj'}$ (o índice indica que está definida para cada par de conjuntos, para cada par de cartas) que indicam quais das desigualdades valem e a soma delas deverá ser maior ou igual a 7. Para comparar duas cartas, iremos utilizar a mesma forma que a restrição anterior, as somas de $b_{ijk}$ deve ser menor ou igual a 1.\n",
    "\n",
    "$$ \\text{para cada } i, i'  \\text{distintos} $$\n",
    "$$ \\text{para cada } j, j' \\in \\{1, 2, 3\\}$$\n",
    "$$ \\text{para cada k} $$\n",
    "$$ b_{ijk} + b_{i'j'k} \\leq 1 + 100(1 - g_{ii'jj'}) $$\n",
    "$$\\sum_{j = 1}^{3} \\sum_{j' = 1}^3 g_{ii'jj'} \\geq 7$$\n",
    "\n",
    "A primeira restrição garante que a carta $j$ do conjunto $i$ e a carta $j'$ do conjunto $i'$ não são ambas iguais ao elemento $k$ de $D$, porém essa restrição pode ser desativada a depender do valor de $g_{ii'jj'}$, se ele for $0$ a restrição está desativada. A segunda restrição garante que pelo menos 7 restrições vão estar ativadas.\n"
   ]
  },
  {
   "cell_type": "code",
   "execution_count": 8,
   "metadata": {},
   "outputs": [],
   "source": [
    "for i = 1:6\n",
    "    for i_line = (i+1):6\n",
    "        g = @variable(setgame, base_name = \"g_\" * string(i) * string(i_line),[j = 1:3, j_line = 1:3], binary = true)\n",
    "        @constraint(setgame, sum(g) >= 7)\n",
    "        for j = 1:3\n",
    "            for j_line = 1:3\n",
    "                @constraint(setgame, [k = 1:12], b[i,j,k] + b[i_line, j_line, k] <= 1 + 100(1 - g[j, j_line]))\n",
    "                \n",
    "            end\n",
    "        end\n",
    "    end\n",
    "end"
   ]
  },
  {
   "cell_type": "markdown",
   "metadata": {},
   "source": [
    "## 3. Solução <a name=\"section3\"></a>\n",
    "\n",
    "Por fim, podemos otimizar o nosso problema em busca da solução."
   ]
  },
  {
   "cell_type": "code",
   "execution_count": 9,
   "metadata": {},
   "outputs": [
    {
     "name": "stdout",
     "output_type": "stream",
     "text": [
      "Welcome to the CBC MILP Solver \n",
      "Version: 2.10.3 \n",
      "Build Date: Jan  1 1970 \n",
      "\n",
      "command line - Cbc_C_Interface -solve -quit (default strategy 1)\n",
      "Continuous objective value is 0 - 0.01 seconds\n",
      "Cgl0003I 0 fixed, 0 tightened bounds, 77 strengthened rows, 0 substitutions\n",
      "Cgl0003I 0 fixed, 0 tightened bounds, 42 strengthened rows, 0 substitutions\n",
      "Cgl0004I processed model has 1821 rows, 567 columns (567 integer (567 of which binary)) and 7269 elements\n",
      "Cbc0045I No integer variables out of 567 objects (567 integer) have costs\n",
      "Cbc0045I branch on satisfied N create fake objective Y random cost Y\n",
      "Cbc0031I 82 added rows had average density of 56.02439\n",
      "Cbc0013I At root node, 82 cuts changed objective from 0 to 0 in 10 passes\n",
      "Cbc0014I Cut generator 0 (Probing) - 102 row cuts average 3.9 elements, 0 column cuts (35 active)  in 0.058 seconds - new frequency is -100\n",
      "Cbc0014I Cut generator 1 (Gomory) - 473 row cuts average 215.6 elements, 0 column cuts (0 active)  in 0.123 seconds - new frequency is -100\n",
      "Cbc0014I Cut generator 2 (Knapsack) - 81 row cuts average 9.4 elements, 0 column cuts (0 active)  in 0.119 seconds - new frequency is -100\n",
      "Cbc0014I Cut generator 3 (Clique) - 3 row cuts average 3.7 elements, 0 column cuts (0 active)  in 0.000 seconds - new frequency is -100\n",
      "Cbc0014I Cut generator 4 (MixedIntegerRounding2) - 3 row cuts average 52.0 elements, 0 column cuts (0 active)  in 0.061 seconds - new frequency is -100\n",
      "Cbc0014I Cut generator 5 (FlowCover) - 0 row cuts average 0.0 elements, 0 column cuts (0 active)  in 0.000 seconds - new frequency is -100\n",
      "Cbc0014I Cut generator 6 (TwoMirCuts) - 481 row cuts average 123.7 elements, 0 column cuts (0 active)  in 0.168 seconds - new frequency is -100\n",
      "Cbc0014I Cut generator 7 (ZeroHalf) - 105 row cuts average 14.6 elements, 0 column cuts (0 active)  in 0.129 seconds - new frequency is -100\n",
      "Cbc0010I After 0 nodes, 1 on tree, 1e+50 best solution, best possible 0 (1.67 seconds)\n",
      "Cbc0010I After 100 nodes, 19 on tree, 1e+50 best solution, best possible 0 (5.00 seconds)\n",
      "Cbc0010I After 200 nodes, 45 on tree, 1e+50 best solution, best possible 0 (7.18 seconds)\n",
      "Cbc0010I After 300 nodes, 80 on tree, 1e+50 best solution, best possible 0 (9.32 seconds)\n",
      "Cbc0010I After 400 nodes, 96 on tree, 1e+50 best solution, best possible 0 (10.55 seconds)\n",
      "Cbc0004I Integer solution of 0 found after 15811 iterations and 401 nodes (10.55 seconds)\n",
      "Cbc0001I Search completed - best objective 0, took 15811 iterations and 401 nodes (10.56 seconds)\n",
      "Cbc0032I Strong branching done 4218 times (41077 iterations), fathomed 30 nodes and fixed 31 variables\n",
      "Cbc0035I Maximum depth 61, 0 variables fixed on reduced cost\n",
      "Cuts at root node changed objective from 0 to 0\n",
      "Probing was tried 10 times and created 102 cuts of which 35 were active after adding rounds of cuts (0.058 seconds)\n",
      "Gomory was tried 10 times and created 473 cuts of which 0 were active after adding rounds of cuts (0.123 seconds)\n",
      "Knapsack was tried 10 times and created 81 cuts of which 0 were active after adding rounds of cuts (0.119 seconds)\n",
      "Clique was tried 10 times and created 3 cuts of which 0 were active after adding rounds of cuts (0.000 seconds)\n",
      "MixedIntegerRounding2 was tried 10 times and created 3 cuts of which 0 were active after adding rounds of cuts (0.061 seconds)\n",
      "FlowCover was tried 10 times and created 0 cuts of which 0 were active after adding rounds of cuts (0.000 seconds)\n",
      "TwoMirCuts was tried 10 times and created 481 cuts of which 0 were active after adding rounds of cuts (0.168 seconds)\n",
      "ZeroHalf was tried 10 times and created 105 cuts of which 0 were active after adding rounds of cuts (0.129 seconds)\n",
      "ImplicationCuts was tried 8 times and created 45 cuts of which 0 were active after adding rounds of cuts (0.000 seconds)\n",
      "\n",
      "Result - Optimal solution found\n",
      "\n",
      "Objective value:                0.00000000\n",
      "Enumerated nodes:               401\n",
      "Total iterations:               15811\n",
      "Time (CPU seconds):             10.59\n",
      "Time (Wallclock seconds):       10.59\n",
      "\n",
      "Total time (CPU seconds):       10.59   (Wallclock seconds):       10.59\n",
      "\n"
     ]
    }
   ],
   "source": [
    "optimize!(setgame)"
   ]
  },
  {
   "cell_type": "markdown",
   "metadata": {},
   "source": [
    "Existem diferentes formas de se extrair o resultado obtido pelo solver, usaremos a interpretação de $C$ para encontrar a solução, usaremos uma função que transforma a variável $C$ representada pelos índices de cada característica em um texto legível para podermos entender melhor."
   ]
  },
  {
   "cell_type": "code",
   "execution_count": 10,
   "metadata": {},
   "outputs": [
    {
     "data": {
      "text/plain": [
       "print_solution (generic function with 1 method)"
      ]
     },
     "execution_count": 10,
     "metadata": {},
     "output_type": "execute_result"
    }
   ],
   "source": [
    "function print_solution(C)\n",
    "    colors = Dict([(1, \"vermelho\"), (2, \"verde\"), (3, \"roxo\")])\n",
    "    symbols = Dict([(1, \"curvado\"), (2, \"diamante\"), (3, \"oval\")])\n",
    "    fill = Dict([(1, \"completo\"), (2, \"listrado\"), (3, \"vazio\")])\n",
    "    for i = 1:6\n",
    "        @printf \"%iº conjunto \\n\" i\n",
    "        for j = 1:3\n",
    "            @printf \"  %s %s %s %s  \\n\" string(Int(C[i, j, 4])) symbols[C[i, j, 2]] colors[C[i, j, 1]] fill[C[i, j, 3]]\n",
    "        end\n",
    "    end\n",
    "        \n",
    "end"
   ]
  },
  {
   "cell_type": "code",
   "execution_count": 11,
   "metadata": {},
   "outputs": [
    {
     "name": "stdout",
     "output_type": "stream",
     "text": [
      "1º conjunto \n",
      "  2 oval roxo completo  \n",
      "  2 oval roxo listrado  \n",
      "  2 oval roxo vazio  \n",
      "2º conjunto \n",
      "  1 diamante verde listrado  \n",
      "  3 curvado vermelho completo  \n",
      "  2 oval roxo vazio  \n",
      "3º conjunto \n",
      "  2 diamante verde vazio  \n",
      "  2 oval roxo completo  \n",
      "  2 curvado vermelho listrado  \n",
      "4º conjunto \n",
      "  1 curvado vermelho vazio  \n",
      "  2 curvado vermelho listrado  \n",
      "  3 curvado vermelho completo  \n",
      "5º conjunto \n",
      "  1 diamante vermelho completo  \n",
      "  1 diamante roxo vazio  \n",
      "  1 diamante verde listrado  \n",
      "6º conjunto \n",
      "  1 oval vermelho listrado  \n",
      "  1 curvado vermelho vazio  \n",
      "  1 diamante vermelho completo  \n"
     ]
    }
   ],
   "source": [
    "print_solution(JuMP.value.(C))"
   ]
  },
  {
   "cell_type": "markdown",
   "metadata": {},
   "source": [
    "Os conjuntos aparecem todos válidos e distintos, vamos apenas verificar novamente com nossa imagem de cartas possíveis se todos os conjuntos são possíveis com as cartas que podemos utilizar.\n",
    "\n",
    "<img src = \"possible_cards_03_04.png\"></img>\n",
    "\n",
    "Vemos que todos os conjuntos são possíveis e que o nosso modelo foi capaz de solucionar o problema.\n",
    "\n",
    "## 4. Função de criação modelo <a name=\"section4\"></a>\n",
    "\n",
    "Por fim, criamos a seguinte função que recebe uma matrix $D_{12\\times 4}$ conténdo as cartas possíveis e retorna a solução do problema."
   ]
  },
  {
   "cell_type": "code",
   "execution_count": 14,
   "metadata": {},
   "outputs": [
    {
     "data": {
      "text/plain": [
       "setgame_solve (generic function with 1 method)"
      ]
     },
     "execution_count": 14,
     "metadata": {},
     "output_type": "execute_result"
    }
   ],
   "source": [
    "function setgame_solve(D)\n",
    "    setgame = Model(Cbc.Optimizer) \n",
    "    @variable(setgame, C[1:6, 1:3, 1:4]);\n",
    "    #valid cards\n",
    "    @variable(setgame, b[1:6, 1:3, 1:12], binary = true)\n",
    "    #for each i,j the sum b_ijk is 1\n",
    "    @constraint(setgame, sum_of_b[i = 1:6, j = 1:3], sum(b[i, j, :]) == 1)\n",
    "    #equality constraints\n",
    "    @constraint(setgame, equality_b[i = 1:6, j = 1:3, k = 1:4], C[i, j, k] == sum(D .* b[i, j, :], dims = 1)[k])\n",
    "    #valid sets\n",
    "    E = [[1 1 1];\n",
    "    [2 2 2];\n",
    "    [3 3 3];\n",
    "    [1 2 3];\n",
    "    [1 3 2];\n",
    "    [2 1 3];\n",
    "    [2 3 1];\n",
    "    [3 1 2];\n",
    "    [3 2 1]];\n",
    "    @variable(setgame, f[1:6, 1:4, 1:9], binary = true)\n",
    "    #for each i,k the sum f_ikl is 1\n",
    "    @constraint(setgame, sum_of_f[i = 1:6, k = 1:4], sum(f[i, k, :]) == 1)\n",
    "    #equality constraints\n",
    "    @constraint(setgame, equality_f[i = 1:6, j = 1:3, k = 1:4], C[i, j, k] == sum(E .* f[i, k, :], dims = 1)[j])\n",
    "    #sets with different cards\n",
    "    @constraint(setgame, different_cards[i = 1:6, k = 1:12], sum(b[i, :, k]) <= 1)\n",
    "    #different sets\n",
    "    for i = 1:6\n",
    "        for i_line = (i+1):6\n",
    "            g = @variable(setgame, base_name = \"g_\" * string(i) * string(i_line),[j = 1:3, j_line = 1:3], binary = true)\n",
    "            @constraint(setgame, sum(g) >= 7)\n",
    "            for j = 1:3\n",
    "                for j_line = 1:3\n",
    "                    @constraint(setgame, [k = 1:12], b[i,j,k] + b[i_line, j_line, k] <= 1 + 100(1 - g[j, j_line]))\n",
    "\n",
    "                end\n",
    "            end\n",
    "        end\n",
    "    end\n",
    "    #solve\n",
    "    optimize!(setgame)\n",
    "    sol_C = JuMP.value.(C)\n",
    "    #and print result\n",
    "    print_solution(sol_C)\n",
    "    return sol_C    \n",
    "end"
   ]
  },
  {
   "cell_type": "markdown",
   "metadata": {},
   "source": [
    "### 4.1 Exemplo <a name = \"subsection41\"></a>\n",
    "\n",
    "Para exemplificar a nossa função, vamos resolver o problema proposto no dia 04/04/2021.\n",
    "\n",
    "<img src =\"possible_cards_04_04.png\"></img>\n",
    "\n",
    "Digitando o nosso novo conjunto $D$ e executando o a função solucionadora obtemos:"
   ]
  },
  {
   "cell_type": "code",
   "execution_count": 15,
   "metadata": {},
   "outputs": [
    {
     "name": "stdout",
     "output_type": "stream",
     "text": [
      "1º conjunto \n",
      "  3 diamante vermelho completo  \n",
      "  3 diamante roxo listrado  \n",
      "  3 diamante verde vazio  \n",
      "2º conjunto \n",
      "  1 curvado vermelho completo  \n",
      "  3 diamante verde vazio  \n",
      "  2 oval roxo listrado  \n",
      "3º conjunto \n",
      "  1 curvado vermelho completo  \n",
      "  1 diamante roxo listrado  \n",
      "  1 oval verde vazio  \n",
      "4º conjunto \n",
      "  3 diamante vermelho listrado  \n",
      "  3 diamante roxo listrado  \n",
      "  3 diamante verde listrado  \n",
      "5º conjunto \n",
      "  1 oval verde vazio  \n",
      "  3 diamante roxo listrado  \n",
      "  2 curvado vermelho completo  \n",
      "6º conjunto \n",
      "  3 oval verde vazio  \n",
      "  1 diamante roxo listrado  \n",
      "  2 curvado vermelho completo  \n",
      "Welcome to the CBC MILP Solver \n",
      "Version: 2.10.3 \n",
      "Build Date: Jan  1 1970 \n",
      "\n",
      "command line - Cbc_C_Interface -solve -quit (default strategy 1)\n",
      "Continuous objective value is 0 - 0.01 seconds\n",
      "Cgl0003I 0 fixed, 0 tightened bounds, 77 strengthened rows, 0 substitutions\n",
      "Cgl0003I 0 fixed, 0 tightened bounds, 42 strengthened rows, 0 substitutions\n",
      "Cgl0004I processed model has 1821 rows, 567 columns (567 integer (567 of which binary)) and 7263 elements\n",
      "Cbc0045I No integer variables out of 567 objects (567 integer) have costs\n",
      "Cbc0045I branch on satisfied N create fake objective Y random cost Y\n",
      "Cbc0031I 88 added rows had average density of 70.261364\n",
      "Cbc0013I At root node, 88 cuts changed objective from 0 to 0 in 10 passes\n",
      "Cbc0014I Cut generator 0 (Probing) - 113 row cuts average 4.2 elements, 0 column cuts (56 active)  in 0.031 seconds - new frequency is -100\n",
      "Cbc0014I Cut generator 1 (Gomory) - 448 row cuts average 239.7 elements, 0 column cuts (0 active)  in 0.132 seconds - new frequency is -100\n",
      "Cbc0014I Cut generator 2 (Knapsack) - 117 row cuts average 11.5 elements, 0 column cuts (0 active)  in 0.079 seconds - new frequency is -100\n",
      "Cbc0014I Cut generator 3 (Clique) - 14 row cuts average 3.4 elements, 0 column cuts (0 active)  in 0.007 seconds - new frequency is -100\n",
      "Cbc0014I Cut generator 4 (MixedIntegerRounding2) - 10 row cuts average 39.0 elements, 0 column cuts (0 active)  in 0.074 seconds - new frequency is -100\n",
      "Cbc0014I Cut generator 5 (FlowCover) - 0 row cuts average 0.0 elements, 0 column cuts (0 active)  in 0.000 seconds - new frequency is -100\n",
      "Cbc0014I Cut generator 6 (TwoMirCuts) - 458 row cuts average 134.9 elements, 0 column cuts (0 active)  in 0.116 seconds - new frequency is -100\n",
      "Cbc0014I Cut generator 7 (ZeroHalf) - 127 row cuts average 14.9 elements, 0 column cuts (0 active)  in 0.118 seconds - new frequency is -100\n",
      "Cbc0010I After 0 nodes, 1 on tree, 1e+50 best solution, best possible 0 (1.65 seconds)\n",
      "Cbc0016I Integer solution of 0 found by strong branching after 4406 iterations and 58 nodes (4.26 seconds)\n",
      "Cbc0001I Search completed - best objective 0, took 4425 iterations and 58 nodes (4.27 seconds)\n",
      "Cbc0032I Strong branching done 1410 times (18633 iterations), fathomed 1 nodes and fixed 21 variables\n",
      "Cbc0035I Maximum depth 29, 0 variables fixed on reduced cost\n",
      "Cuts at root node changed objective from 0 to 0\n",
      "Probing was tried 10 times and created 113 cuts of which 56 were active after adding rounds of cuts (0.031 seconds)\n",
      "Gomory was tried 10 times and created 448 cuts of which 0 were active after adding rounds of cuts (0.132 seconds)\n",
      "Knapsack was tried 10 times and created 117 cuts of which 0 were active after adding rounds of cuts (0.079 seconds)\n",
      "Clique was tried 10 times and created 14 cuts of which 0 were active after adding rounds of cuts (0.007 seconds)\n",
      "MixedIntegerRounding2 was tried 10 times and created 10 cuts of which 0 were active after adding rounds of cuts (0.074 seconds)\n",
      "FlowCover was tried 10 times and created 0 cuts of which 0 were active after adding rounds of cuts (0.000 seconds)\n",
      "TwoMirCuts was tried 10 times and created 458 cuts of which 0 were active after adding rounds of cuts (0.116 seconds)\n",
      "ZeroHalf was tried 10 times and created 127 cuts of which 0 were active after adding rounds of cuts (0.118 seconds)\n",
      "ImplicationCuts was tried 8 times and created 63 cuts of which 0 were active after adding rounds of cuts (0.000 seconds)\n",
      "\n",
      "Result - Optimal solution found\n",
      "\n",
      "Objective value:                0.00000000\n",
      "Enumerated nodes:               58\n",
      "Total iterations:               4425\n",
      "Time (CPU seconds):             4.31\n",
      "Time (Wallclock seconds):       4.31\n",
      "\n",
      "Total time (CPU seconds):       4.31   (Wallclock seconds):       4.31\n",
      "\n"
     ]
    }
   ],
   "source": [
    "new_D = [[1 2 2 3];\n",
    "    [2 3 3 3];\n",
    "    [2 2 2 3];\n",
    "    [1 1 1 1];\n",
    "    [3 3 2 2];\n",
    "    [3 2 2 1];\n",
    "    [2 3 1 2];\n",
    "    [2 2 3 3];\n",
    "    [1 1 1 2];\n",
    "    [3 2 2 3];\n",
    "    [2 3 3 1];\n",
    "    [1 2 1 3]];\n",
    "setgame_solve(new_D);"
   ]
  },
  {
   "cell_type": "markdown",
   "metadata": {},
   "source": [
    "Vemos que a solução obtida é válida.\n",
    "\n"
   ]
  }
 ],
 "metadata": {
  "kernelspec": {
   "display_name": "Julia 1.5.3",
   "language": "julia",
   "name": "julia-1.5"
  },
  "language_info": {
   "file_extension": ".jl",
   "mimetype": "application/julia",
   "name": "julia",
   "version": "1.5.3"
  }
 },
 "nbformat": 4,
 "nbformat_minor": 4
}
