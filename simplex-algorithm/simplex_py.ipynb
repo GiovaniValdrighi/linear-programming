{
 "cells": [
  {
   "cell_type": "code",
   "execution_count": 27,
   "metadata": {},
   "outputs": [],
   "source": [
    "import numpy as np"
   ]
  },
  {
   "cell_type": "code",
   "execution_count": 25,
   "metadata": {},
   "outputs": [],
   "source": [
    "class Model:\n",
    "    def __init__(self):\n",
    "        self.variables = []\n",
    "        self.constraints = []\n",
    "        self.objective = None\n",
    "        self.type = None\n",
    "    \n",
    "    def add_variable(self, variable):\n",
    "        self.variables.append(variable)\n",
    "    \n",
    "    def print_variables(self):\n",
    "        print(\" \".join([v.name for v in self.variables]))\n",
    "    \n",
    "    def add_constraint(self, constraint):\n",
    "        self.constraints.append(constraint)\n",
    "    \n",
    "    def print_constraints(self):\n",
    "        for c in self.constraints:\n",
    "            s = ''\n",
    "            for i in range(len(c.variables)):\n",
    "                s += str(c.coefficients[i])+\"*\"+ c.variables[i].name +\" + \" \n",
    "            s = s[:-2]\n",
    "            s += \"<= \" + str(c.threshold)\n",
    "            print(s)\n",
    "    \n",
    "    def add_objective(self, coefficients, obj_type):\n",
    "        self.objective = coefficients\n",
    "        self.type = obj_type\n",
    "    \n",
    "    def print_objective(self):\n",
    "        s = self.type + \":\" \n",
    "        for i in range(len(self.objective)):\n",
    "            s += str(self.objective[i]) + \"*\" + self.variables[i].name + \" + \"\n",
    "        s = s[:-2]\n",
    "        print(s)\n",
    "        \n",
    "    def solve(self):\n",
    "        pass\n",
    "    \n",
    "    def _CanonicalForm(self):\n",
    "        if self.type == \"Min\":\n",
    "            self.objective = [-1*x for x in self.objective]\n",
    "        \n",
    "        self.slacks = []\n",
    "        #create slack variable\n",
    "        for i in range(len(self.constraints)):\n",
    "            self.slacks.append(Variable(\"slack\" + str(i)))\n",
    "            \n",
    "        c = np.array(self.objective + [0] * len(self.slacks))\n",
    "        b = np.array([x.threshold for x in self.constraints])\n",
    "        A = np.zeros(shape = (len(self.constraints), len(self.variables)))\n",
    "        for i, c in enumerate(self.constraints):\n",
    "            \n",
    "        \n",
    "class Variable:\n",
    "    def __init__(self, name):\n",
    "        self.name = name\n",
    "    \n",
    "class Constraint:\n",
    "    '''\n",
    "    Constraints are in the format:\n",
    "        variables * coefficients < threshold\n",
    "    '''\n",
    "    def __init__(self, variables, coefficients, threshold):\n",
    "        self.variables = variables\n",
    "        self.coefficients = coefficients\n",
    "        self.threshold = threshold        "
   ]
  },
  {
   "cell_type": "code",
   "execution_count": 26,
   "metadata": {},
   "outputs": [
    {
     "name": "stdout",
     "output_type": "stream",
     "text": [
      "x0 x1\n",
      "2*x0 + 4*x1 <= 10\n",
      "Max:1*x0 + 1*x1 \n"
     ]
    }
   ],
   "source": [
    "m = Model()\n",
    "x = []\n",
    "#variables\n",
    "for i in range(2):\n",
    "    x.append(Variable('x'+str(i)))\n",
    "    m.add_variable(x[i])\n",
    "\n",
    "cons = Constraint([x[0], x[1]], [2, 4], 10)\n",
    "m.add_constraint(cons)\n",
    "\n",
    "m.add_objective([1, 1], 'Max')\n",
    "\n",
    "m.print_variables()\n",
    "m.print_constraints()\n",
    "m.print_objective()"
   ]
  },
  {
   "cell_type": "code",
   "execution_count": 29,
   "metadata": {},
   "outputs": [
    {
     "data": {
      "text/plain": [
       "array([[0., 0.],\n",
       "       [0., 0.],\n",
       "       [0., 0.],\n",
       "       [0., 0.],\n",
       "       [0., 0.],\n",
       "       [0., 0.],\n",
       "       [0., 0.],\n",
       "       [0., 0.],\n",
       "       [0., 0.],\n",
       "       [0., 0.]])"
      ]
     },
     "execution_count": 29,
     "metadata": {},
     "output_type": "execute_result"
    }
   ],
   "source": [
    "np.zeros(shape = (10, 2))"
   ]
  },
  {
   "cell_type": "code",
   "execution_count": null,
   "metadata": {},
   "outputs": [],
   "source": [
    "#supposing that b is positive\n",
    "\n",
    "def solve(A, b, c):\n",
    "    #create slack variables\n",
    "    n_constraints = A.shape[0]\n",
    "    n_variables = A.shape[1]\n",
    "    new_A = np.concatenate([A, np.eye(n_constraints)], axis = 1)\n",
    "    \n",
    "    if min(b) >= 0:\n",
    "        new_b = np.array(b + [0])\n",
    "        new_c = np.array(c + [0] * n_constraints)\n",
    "        \n",
    "        \n",
    "    else:\n",
    "        pass\n",
    "    \n",
    "    "
   ]
  },
  {
   "cell_type": "code",
   "execution_count": 33,
   "metadata": {},
   "outputs": [
    {
     "data": {
      "text/plain": [
       "array([[1., 0., 0.],\n",
       "       [0., 1., 0.],\n",
       "       [0., 0., 1.]])"
      ]
     },
     "execution_count": 33,
     "metadata": {},
     "output_type": "execute_result"
    }
   ],
   "source": [
    "np.eye(3)"
   ]
  },
  {
   "cell_type": "code",
   "execution_count": 36,
   "metadata": {},
   "outputs": [
    {
     "data": {
      "text/plain": [
       "array([[1., 2., 1., 0.],\n",
       "       [3., 4., 0., 1.]])"
      ]
     },
     "execution_count": 36,
     "metadata": {},
     "output_type": "execute_result"
    }
   ],
   "source": [
    "A = np.array([[1, 2], [3, 4]])\n",
    "np.concatenate([A, np.eye(2)], axis = 1)"
   ]
  },
  {
   "cell_type": "code",
   "execution_count": 38,
   "metadata": {},
   "outputs": [
    {
     "data": {
      "text/plain": [
       "1"
      ]
     },
     "execution_count": 38,
     "metadata": {},
     "output_type": "execute_result"
    }
   ],
   "source": [
    "min(np.array([1, 2, 3 ,4, 5, 6, 7]))"
   ]
  },
  {
   "cell_type": "code",
   "execution_count": null,
   "metadata": {},
   "outputs": [],
   "source": []
  }
 ],
 "metadata": {
  "kernelspec": {
   "display_name": "Python 3",
   "language": "python",
   "name": "python3"
  },
  "language_info": {
   "codemirror_mode": {
    "name": "ipython",
    "version": 3
   },
   "file_extension": ".py",
   "mimetype": "text/x-python",
   "name": "python",
   "nbconvert_exporter": "python",
   "pygments_lexer": "ipython3",
   "version": "3.8.3"
  }
 },
 "nbformat": 4,
 "nbformat_minor": 4
}
