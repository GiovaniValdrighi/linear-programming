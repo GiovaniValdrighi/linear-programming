{
 "cells": [
  {
   "cell_type": "code",
   "execution_count": 1,
   "metadata": {},
   "outputs": [],
   "source": [
    "using LinearAlgebra"
   ]
  },
  {
   "cell_type": "markdown",
   "metadata": {},
   "source": [
    "# Implementation of simplex algorithm\n",
    "\n",
    "The simplex algorithm is a optimization algorithm for linear problems. In our implementation we must create a method to the user input the linear problem and a method for the optimization procedure.\n",
    "\n",
    "The problems solved are in the following format:\n",
    "\n",
    "$$\\max x^Tc$$\n",
    "\n",
    "$$\\text{subject to } $$\n",
    "\n",
    "$$A_{ub}x \\leq b_{ub}$$\n",
    "\n",
    "$$A_{eq}x = b_{eq}$$\n",
    "\n",
    "$$x \\geq 0$$\n",
    "\n",
    "The matrix $c$, $A_{ub}$, $b_{ub}$, $A_{eq}$ and $b_{eq}$ are the input from the user. The simplex method can be described in the following steps:\n",
    "\n",
    "- Add slacks variables for upper bound constraints.\n",
    "\n",
    "- For every constraint where $b$ is lower than $0$, multiply the constraint by $-1$ to make it positive.\n",
    "\n",
    "- Add artificial variables for every row where there isn't a isolated variable.\n",
    "\n",
    "- If there are artificial variables, perform phase I optimization.\n",
    "\n",
    "- With there aren't artificial variables or after phase II, perform phase II optimization.\n",
    "    \n",
    "The optimization steps are the following until it is possible to increase the solution:\n",
    "    \n",
    "- Find variable if biggest coefficient on objective function.\n",
    "\n",
    "- Find row with lowest upper limit for the variable.\n",
    "\n",
    "- Add new variable to basis and remove the older one.\n",
    "\n",
    "To formulate operations we will use a tableau, a tableau is a matrix that contain the matrix of restrictions $A$, the matrix of the right of the side of restrictions $b$ and the objective function $c$. The tableau will also keep infromation about decision, slack and artificial variables, the constraints and the basis. Obs.: the basis is the list of variables that are not $0$. We formulate the struct:\n",
    "    "
   ]
  },
  {
   "cell_type": "code",
   "execution_count": 2,
   "metadata": {},
   "outputs": [],
   "source": [
    "mutable struct Tableau\n",
    "    T::Array{Float64, 2}\n",
    "    basis::Dict{Int64,Int64}\n",
    "    decision::Array{Int64, 1}\n",
    "    slack::Array{Int64, 1}\n",
    "    artificial::Array{Int64, 1}\n",
    "    constraints::Array{Int64, 1}\n",
    "end"
   ]
  },
  {
   "cell_type": "markdown",
   "metadata": {},
   "source": [
    "The first step if to add slack variables for each upper bound constraint, we add a empty column with the value $1$ on the row of the respective constraint. We also keep the index for the slack variables created."
   ]
  },
  {
   "cell_type": "code",
   "execution_count": 3,
   "metadata": {},
   "outputs": [
    {
     "data": {
      "text/plain": [
       "add_slack (generic function with 1 method)"
      ]
     },
     "execution_count": 3,
     "metadata": {},
     "output_type": "execute_result"
    }
   ],
   "source": [
    "function add_slack(T::Array{Float64, 2},\n",
    "                    n_ub_const::Int64,\n",
    "                    n_variables::Int64)\n",
    "    \"\"\"\n",
    "    Function that add slack variables to tableau\n",
    "    \"\"\"\n",
    "    aux = zeros(size(T, 1), n_ub_const)\n",
    "    aux[1:n_ub_const, 1:n_ub_const] = Matrix(I(n_ub_const))    \n",
    "    T = [T[:, 1:(end- 1)] aux T[:, end]]\n",
    "    slack = collect((n_variables + 1):(size(T, 2) - 1))\n",
    "    return T, slack\n",
    "end"
   ]
  },
  {
   "cell_type": "markdown",
   "metadata": {},
   "source": [
    "To keep track of the problem, we start creating the basis with the slack variables that have a positive right side."
   ]
  },
  {
   "cell_type": "code",
   "execution_count": 4,
   "metadata": {},
   "outputs": [
    {
     "data": {
      "text/plain": [
       "slack_basis (generic function with 1 method)"
      ]
     },
     "execution_count": 4,
     "metadata": {},
     "output_type": "execute_result"
    }
   ],
   "source": [
    "function slack_basis(T::Array{Float64, 2},\n",
    "                    n_ub_const::Int64,\n",
    "                    n_variables::Int64)\n",
    "    \"\"\"\n",
    "    Function that add every slack variable where the right side if positive to basis \n",
    "    \"\"\"\n",
    "    basis = Dict{Int64,Int64}()\n",
    "    for i = 1:n_ub_const\n",
    "        if T[i, end] >= 0\n",
    "            push!(basis, i => (i+n_variables))\n",
    "        end\n",
    "    end\n",
    "    return T, basis\n",
    "end"
   ]
  },
  {
   "cell_type": "markdown",
   "metadata": {},
   "source": [
    "The next step is to remove the negative right side from constraints."
   ]
  },
  {
   "cell_type": "code",
   "execution_count": 5,
   "metadata": {},
   "outputs": [
    {
     "data": {
      "text/plain": [
       "remove_negative (generic function with 1 method)"
      ]
     },
     "execution_count": 5,
     "metadata": {},
     "output_type": "execute_result"
    }
   ],
   "source": [
    "function remove_negative(T::Array{Float64, 2},\n",
    "                    n_ub_const::Int64,\n",
    "                    n_eq_const::Int64)\n",
    "    \"\"\"\n",
    "    Function that remove negative values from right side of tableau\n",
    "    \"\"\"\n",
    "    for i = 1:(n_ub_const + n_eq_const)\n",
    "        if T[i, end] < 0\n",
    "            T[i, :] = -1 *T[i, :]\n",
    "        end\n",
    "    end\n",
    "    return T\n",
    "end"
   ]
  },
  {
   "cell_type": "markdown",
   "metadata": {},
   "source": [
    "Now we need to check if there is need for artificial variables, for every constraint we verify if there is a isolated variable already in basis, if there isn't we check for every column if there is a isolated variable to pivot and add to basis. In the rows that we still couldn't find a isolated variable, we add an artificial one."
   ]
  },
  {
   "cell_type": "code",
   "execution_count": 6,
   "metadata": {},
   "outputs": [
    {
     "data": {
      "text/plain": [
       "add_artificial (generic function with 1 method)"
      ]
     },
     "execution_count": 6,
     "metadata": {},
     "output_type": "execute_result"
    }
   ],
   "source": [
    "function add_artificial(T::Array{Float64, 2},\n",
    "                    n_ub_const::Int64,\n",
    "                    n_eq_const::Int64,\n",
    "                    basis::Dict{Int64, Int64})\n",
    "    \"\"\"\n",
    "    Function that add artificial variables to every row without a isolated variable\n",
    "    \"\"\"\n",
    "    artificial = []\n",
    "    aux = zeros(1, size(T, 2))\n",
    "    T = [T; aux]\n",
    "    for i = 1:(n_ub_const + n_eq_const)\n",
    "        if !(i in keys(basis))\n",
    "            row_with_basis = false\n",
    "            for j=1:(size(T, 2)-1)\n",
    "                if (sum(abs.(T[1:(n_ub_const + n_eq_const), j])) == abs(T[i, j])) & !(j in values(basis))\n",
    "                    #normalize row and add to basis\n",
    "                    T[i, :] = T[i, :]/T[i, j]\n",
    "                    push!(basis, i => j)\n",
    "                    row_with_basis = true\n",
    "                    break\n",
    "                end\n",
    "            end\n",
    "            \n",
    "            if !row_with_basis\n",
    "                aux = zeros(size(T, 1))\n",
    "                aux[i] = 1.0\n",
    "                T = [T[:, 1:(end- 1)] aux T[:, end]]\n",
    "                artificial = [artificial; (size(T, 2) - 1)]\n",
    "                push!(basis, i => last(artificial))\n",
    "                T[end, :] = T[end, :] + T[i, :]\n",
    "            end\n",
    "        end\n",
    "    end\n",
    "    \n",
    "    if size(artificial, 1) == 0\n",
    "        T = T[1:(end - 1), :]\n",
    "    else\n",
    "        T[end, (end - size(artificial, 1)):(end - 1)] .= 0\n",
    "    end\n",
    "    return T, basis, artificial\n",
    "end"
   ]
  },
  {
   "cell_type": "markdown",
   "metadata": {},
   "source": [
    "Now we need to make the transition from phase I to phase II. First we check if the problem is feasible, next, we iterate over basis and check if there is artificial variables on basis, if there is, we check if it is possible to remove then by pivoting another variable, if we couldn't we keep them. In the end, we remove every artificial variable that is not from basis from the tableau."
   ]
  },
  {
   "cell_type": "code",
   "execution_count": 7,
   "metadata": {},
   "outputs": [
    {
     "data": {
      "text/plain": [
       "phaseI_phaseII (generic function with 1 method)"
      ]
     },
     "execution_count": 7,
     "metadata": {},
     "output_type": "execute_result"
    }
   ],
   "source": [
    "function phaseI_phaseII(tableau::Tableau)\n",
    "    \"\"\"\n",
    "    Function that made transition from phase I to phase II\n",
    "    It starts cheking if a feasible solutions was reached.\n",
    "    For each artificial variable, verify if it's a basis, if it isn't, remove column.\n",
    "    If it is, check if there is another variable on row to pivot.\n",
    "        \n",
    "    \"\"\"\n",
    "    if tableau.T[end, end] != 0\n",
    "        error(\"Problem is infeasible\")\n",
    "    end\n",
    "    \n",
    "    artificial_to_remove = copy(tableau.artificial)\n",
    "    \n",
    "    for (key, value) in tableau.basis\n",
    "        if value in tableau.artificial\n",
    "            non_zero_index = 0\n",
    "            all_zero = true\n",
    "            for j in 1:(size(tableau.T, 2) - 1)\n",
    "                if tableau.T[key, j] != 0\n",
    "                    all_zero = false\n",
    "                    non_zero_index = copy(j)\n",
    "                    break\n",
    "                end\n",
    "            end\n",
    "            \n",
    "            if !all_zero\n",
    "                tableau = pivot_tableau(tableau, key, non_zero_index)\n",
    "            else\n",
    "                filter!(x -> x != value, artificial_to_remove)\n",
    "            end\n",
    "        end\n",
    "    end\n",
    "    \n",
    "    for i in artificial_to_remove\n",
    "        tableau.T[:, i] .= 0\n",
    "        filter!(k -> k != i, tableau.artificial)\n",
    "    end\n",
    "    \n",
    "    tableau.T = tableau.T[1:(end - 1), :]\n",
    "    \n",
    "    return tableau\n",
    "end"
   ]
  },
  {
   "cell_type": "markdown",
   "metadata": {},
   "source": [
    "The iterations for the simplex start finding if it's possible to increase the objective, we find the variable with the biggest coefficient and find the upper limit for it. Next we must pivot the tableau to add this new variable to basis."
   ]
  },
  {
   "cell_type": "code",
   "execution_count": 8,
   "metadata": {},
   "outputs": [
    {
     "data": {
      "text/plain": [
       "simplex_iteration (generic function with 1 method)"
      ]
     },
     "execution_count": 8,
     "metadata": {},
     "output_type": "execute_result"
    }
   ],
   "source": [
    "function simplex_iteration(tableau::Tableau, max_int::Int64)\n",
    "    \"\"\"\n",
    "        Function that run the iterations of optimization for the simplex\n",
    "    \n",
    "        tableau - tableau object with problem information\n",
    "        max_int - number of max iterations\n",
    "        \n",
    "    \"\"\"\n",
    "    n = size(tableau.T, 1)\n",
    "    m = size(tableau.T, 2)\n",
    "    \n",
    "    for int=1:max_int\n",
    "        \n",
    "        #can't increase objective\n",
    "        if maximum(tableau.T[n, 1:(end - 1)]) <= 0\n",
    "            return tableau\n",
    "        end\n",
    "        \n",
    "        #variable to enter basis\n",
    "        s = argmax(tableau.T[n, 1:(end -1)])\n",
    "        \n",
    "        #check if is unbounded\n",
    "        if maximum(tableau.T[tableau.constraints,s]) <= 0\n",
    "            error(\"Problem is unbounded.\")\n",
    "        end\n",
    "        \n",
    "        #ratio test to find variable to remove from basis\n",
    "        r = -1\n",
    "        min_ratio = Inf\n",
    "        for i in tableau.constraints\n",
    "            if tableau.T[i, s] > 0\n",
    "                new_ratio = tableau.T[i, m]/tableau.T[i, s]\n",
    "                if new_ratio < min_ratio\n",
    "                    r = i\n",
    "                    min_ratio = new_ratio\n",
    "                end\n",
    "            end\n",
    "        end\n",
    "        \n",
    "        tableau = pivot_tableau(tableau, r, s)\n",
    "    end\n",
    "    return tableau\n",
    "end"
   ]
  },
  {
   "cell_type": "markdown",
   "metadata": {},
   "source": [
    "To pivot the tableau, we update the basis, normalize the row where the basis was updated and update every other row of the tableau."
   ]
  },
  {
   "cell_type": "code",
   "execution_count": 9,
   "metadata": {},
   "outputs": [
    {
     "data": {
      "text/plain": [
       "pivot_tableau (generic function with 1 method)"
      ]
     },
     "execution_count": 9,
     "metadata": {},
     "output_type": "execute_result"
    }
   ],
   "source": [
    "function pivot_tableau(tableau::Tableau,\n",
    "                        r::Int64,\n",
    "                        s::Int64)\n",
    "    \"\"\"\n",
    "    Function that pivot tableau, removing variable of line r from basis and adding variable s to line r\n",
    "    \"\"\"\n",
    "    \n",
    "    #update basis variable\n",
    "    delete!(tableau.basis, r)\n",
    "    push!(tableau.basis, r => s)   \n",
    "    \n",
    "    #normalize row r\n",
    "    tableau.T[r, :] .= tableau.T[r, :]/tableau.T[r, s]\n",
    "    \n",
    "    #subtract from others rows\n",
    "    for i=1:size(tableau.T, 1)\n",
    "        if i != r\n",
    "            tableau.T[i, :] .= tableau.T[i, :] .- (tableau.T[i, s] * tableau.T[r, :])\n",
    "        end\n",
    "    end\n",
    "    \n",
    "    return tableau\n",
    "end"
   ]
  },
  {
   "cell_type": "markdown",
   "metadata": {},
   "source": [
    "The following function obtain the matrix from the user and call the steps."
   ]
  },
  {
   "cell_type": "code",
   "execution_count": 10,
   "metadata": {},
   "outputs": [
    {
     "data": {
      "text/plain": [
       "linear_program (generic function with 1 method)"
      ]
     },
     "execution_count": 10,
     "metadata": {},
     "output_type": "execute_result"
    }
   ],
   "source": [
    "function linear_program(c::Array{Float64,1},\n",
    "                        A_ub::Array{Float64,2},\n",
    "                        b_ub::Array{Float64,1},\n",
    "                        A_eq::Array{Float64,2},\n",
    "                        b_eq::Array{Float64,1},\n",
    "                        max_int::Int64,\n",
    "                        verbose::Bool)\n",
    "    \n",
    "    \n",
    "    n_variables = size(A_ub, 2)\n",
    "    n_ub_const = size(A_ub, 1)\n",
    "    n_eq_const = size(A_eq, 1)\n",
    "    decision = collect(1:n_variables)\n",
    "    constraint = collect(1:(n_ub_const + n_eq_const))\n",
    "    if verbose\n",
    "        println(string(n_variables) * \" decision variables.\")\n",
    "        println(string(n_ub_const + n_eq_const) * \" constraints.\")\n",
    "    end\n",
    "\n",
    "    T = zeros((size(A_ub, 1) + size(A_eq, 1) + 1), (size(A_ub, 2) + 1))\n",
    "    T[1:(end -1), :] = [A_ub b_ub; A_eq b_eq;]\n",
    "    T[end, :] = [c; 0]\n",
    "    \n",
    "    T, slack = add_slack(T, n_ub_const, n_variables)\n",
    "    \n",
    "    if verbose\n",
    "        println(string(size(slack, 1)) * \" slack variables.\")\n",
    "    end\n",
    "    \n",
    "    T, basis = slack_basis(T, n_ub_const, n_variables)\n",
    "    \n",
    "    if verbose\n",
    "        println(\"Start basis:\")\n",
    "        println(basis)\n",
    "    end\n",
    "    \n",
    "    T = remove_negative(T, n_ub_const, n_eq_const)\n",
    "    \n",
    "    T, basis, artificial = add_artificial(T, n_ub_const, n_eq_const, basis)\n",
    "    \n",
    "    if verbose\n",
    "        println(string(size(artificial, 1)) * \" artificial variables.\")\n",
    "        println(\"Updated basis:\")\n",
    "        println(basis)\n",
    "    end\n",
    "    \n",
    "        \n",
    "    tableau = Tableau(T, basis, decision, slack, artificial, constraint) \n",
    "    \n",
    "    if size(artificial, 1) > 0\n",
    "        \n",
    "        if verbose\n",
    "            println(\"Phase I is needed.\")\n",
    "        end\n",
    "        tableau = simplex_iteration(tableau, max_int)\n",
    "        tableau = phaseI_phaseII(tableau)\n",
    "        if verbose\n",
    "            println(string(size(tableau.artificial, 1)) * \" artificial variables after phase I.\")\n",
    "        end\n",
    "    end\n",
    "    \n",
    "    if verbose\n",
    "        println(\"Starting phase II.\")\n",
    "    end\n",
    "    \n",
    "    tableau = simplex_iteration(tableau, max_int)\n",
    "    \n",
    "    return create_solution(tableau)\n",
    "end"
   ]
  },
  {
   "cell_type": "markdown",
   "metadata": {},
   "source": [
    "We also created with two functions that deal with the solution from the tableau."
   ]
  },
  {
   "cell_type": "code",
   "execution_count": 11,
   "metadata": {},
   "outputs": [],
   "source": [
    "mutable struct solution\n",
    "    objective::Float64\n",
    "    decision::Array{Float64, 1}\n",
    "end"
   ]
  },
  {
   "cell_type": "code",
   "execution_count": 12,
   "metadata": {},
   "outputs": [
    {
     "data": {
      "text/plain": [
       "create_solution (generic function with 1 method)"
      ]
     },
     "execution_count": 12,
     "metadata": {},
     "output_type": "execute_result"
    }
   ],
   "source": [
    "function create_solution(tableau::Tableau)\n",
    "    objective = -tableau.T[end, end]\n",
    "    x = zeros(size(tableau.decision, 1))\n",
    "    for (key, value) in tableau.basis\n",
    "        if value in tableau.decision\n",
    "            x[value] = tableau.T[key, end]\n",
    "        end\n",
    "    end\n",
    "    return solution(objective, x)\n",
    "end"
   ]
  },
  {
   "cell_type": "markdown",
   "metadata": {},
   "source": [
    "## Examples\n",
    "\n",
    "We start with a example where only the phase II is required."
   ]
  },
  {
   "cell_type": "code",
   "execution_count": 13,
   "metadata": {},
   "outputs": [
    {
     "name": "stdout",
     "output_type": "stream",
     "text": [
      "3 decision variables.\n",
      "2 constraints.\n",
      "2 slack variables.\n",
      "Start basis:\n",
      "Dict(2 => 5,1 => 4)\n",
      "0 artificial variables.\n",
      "Updated basis:\n",
      "Dict(2 => 5,1 => 4)\n",
      "Starting phase II.\n",
      "Z = 294.0\n",
      "X = [35.99999999999999, 0.0, 6.000000000000002]\n"
     ]
    }
   ],
   "source": [
    "A_ub = [[0.5 2 1];\n",
    "    [1 2 4]]\n",
    "b_ub = [24.0, 60.0];\n",
    "c = [6.0, 14, 13];\n",
    "A_eq = Array{Float64}(undef, 0, 3);\n",
    "b_eq = Array{Float64}(undef,0 );\n",
    "sol = linear_program(c, A_ub, b_ub, A_eq, b_eq, 100, true)\n",
    "println(\"Z = \" * string(sol.objective))\n",
    "println(\"X = \" * string(sol.decision))"
   ]
  },
  {
   "cell_type": "markdown",
   "metadata": {},
   "source": [
    "Now an example where phase I is required."
   ]
  },
  {
   "cell_type": "code",
   "execution_count": 14,
   "metadata": {},
   "outputs": [
    {
     "name": "stdout",
     "output_type": "stream",
     "text": [
      "4 decision variables.\n",
      "3 constraints.\n",
      "0 slack variables.\n",
      "Start basis:\n",
      "Dict{Int64,Int64}()\n",
      "3 artificial variables.\n",
      "Updated basis:\n",
      "Dict(2 => 6,3 => 7,1 => 5)\n",
      "Phase I is needed.\n",
      "0 artificial variables after phase I.\n",
      "Starting phase II.\n",
      "Z = 1.5\n",
      "X = [0.0, 2.5, 1.5, 0.0]\n"
     ]
    }
   ],
   "source": [
    "A_eq = [[1.0 1 1 1];\n",
    "    [-2 1 -1 0];\n",
    "    [0 3 1 1]]\n",
    "b_eq = [4.0, 1, 9]\n",
    "c = [-3.0, 0, 1, 0]\n",
    "A_ub = Array{Float64}(undef,0, 4);\n",
    "b_ub = Array{Float64}(undef,0 );\n",
    "sol = linear_program(c, A_ub, b_ub, A_eq, b_eq, 100, true)\n",
    "println(\"Z = \" * string(sol.objective))\n",
    "println(\"X = \" * string(sol.decision))"
   ]
  }
 ],
 "metadata": {
  "kernelspec": {
   "display_name": "Julia 1.5.3",
   "language": "julia",
   "name": "julia-1.5"
  },
  "language_info": {
   "file_extension": ".jl",
   "mimetype": "application/julia",
   "name": "julia",
   "version": "1.5.3"
  }
 },
 "nbformat": 4,
 "nbformat_minor": 4
}
