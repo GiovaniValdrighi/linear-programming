{
 "cells": [
  {
   "cell_type": "markdown",
   "metadata": {},
   "source": [
    "# Simplex for transportation problem\n",
    "\n",
    "We are going to create a simplex algorithm adept for transportation problems and we are going to use the matrix minization method to compute initial solutions for the initial problem. In the transportation problem we have a network of $n$ supply vertex and $m$ demand vertex, our variables $x_{i,j}$ indicate how much is being transported from vertex $i$ to vertex $j$. We have two vectors, $s$ and $d$ with the maximum values for supply and demand for each vertex. The general formulation is:\n",
    "\n",
    "$$\\min_{x} x^Tc$$\n",
    "\n",
    "$$\\text{subject to } $$\n",
    "\n",
    "$$\\sum_{j = 1}^{m} x_{i, j} = s_i$$\n",
    "\n",
    "$$\\sum_{i = 1}^{n} x_{i, j} = d_i$$\n",
    "\n",
    "The adaptions made in order to focus on transport problems and get better processing time are:\n",
    "\n",
    "- The upper bound constraints are removed, we only have equality constraints.\n",
    "\n",
    "- Without upper bound constraints, we don't have to deal with slack variables.\n",
    "\n",
    "- We don't consider negative right side (there is no negative supply or demand).\n",
    "\n",
    "- We need an artificial variable in every constraint because there is no isolated variable (every variable x_ij is in the constraint for the supply vertex i and also in the constraint for the demand vertex j).\n",
    "\n",
    "- The problem is for minimization.\n",
    "\n"
   ]
  },
  {
   "cell_type": "code",
   "execution_count": 1,
   "metadata": {},
   "outputs": [
    {
     "data": {
      "text/plain": [
       "linear_program (generic function with 1 method)"
      ]
     },
     "execution_count": 1,
     "metadata": {},
     "output_type": "execute_result"
    }
   ],
   "source": [
    "using LinearAlgebra\n",
    "\n",
    "mutable struct Tableau\n",
    "    T::Array{Float64, 2}\n",
    "    basis::Dict{Int64,Int64}\n",
    "    decision::Array{Int64, 1}\n",
    "    slack::Array{Int64, 1}\n",
    "    artificial::Array{Int64, 1}\n",
    "    constraints::Array{Int64, 1}\n",
    "    iterations::Int64\n",
    "end\n",
    "\n",
    "function add_artificial(T::Array{Float64, 2},\n",
    "                    n_const::Int64,\n",
    "                    basis::Dict{Int64, Int64})\n",
    "    \"\"\"\n",
    "    Function that add artificial variables to every row\n",
    "    \"\"\"\n",
    "    artificial = []\n",
    "    aux = zeros(1, size(T, 2))\n",
    "    T = [T; aux]\n",
    "    for i = 1:(n_const)\n",
    "        aux = zeros(size(T, 1))\n",
    "        aux[i] = 1.0\n",
    "        T = [T[:, 1:(end- 1)] aux T[:, end]]\n",
    "        artificial = [artificial; (size(T, 2) - 1)]\n",
    "        push!(basis, i => last(artificial))\n",
    "        T[end, :] = T[end, :] + T[i, :]\n",
    "    end\n",
    "    \n",
    "    T[end, (end - size(artificial, 1)):(end - 1)] .= 0\n",
    "    return T, basis, artificial\n",
    "end\n",
    "\n",
    "function pivot_tableau(tableau::Tableau,\n",
    "                        r::Int64,\n",
    "                        s::Int64)\n",
    "    \"\"\"\n",
    "    Function that pivot tableau, removing variable of line r from basis and adding variable s to line r\n",
    "    \"\"\"\n",
    "    \n",
    "    #update basis variable\n",
    "    delete!(tableau.basis, r)\n",
    "    push!(tableau.basis, r => s)   \n",
    "    \n",
    "    #normalize row r\n",
    "    tableau.T[r, :] .= tableau.T[r, :]/tableau.T[r, s]\n",
    "    \n",
    "    #subtract from others rows\n",
    "    for i=1:size(tableau.T, 1)\n",
    "        if i != r\n",
    "            tableau.T[i, :] .= tableau.T[i, :] .- (tableau.T[i, s] * tableau.T[r, :])\n",
    "        end\n",
    "    end\n",
    "    \n",
    "    return tableau\n",
    "end\n",
    "\n",
    "function simplex_iteration(tableau::Tableau, max_int::Int64)\n",
    "    \"\"\"\n",
    "        Function that run the iterations of optimization for the simplex\n",
    "    \n",
    "        tableau - tableau object with problem information\n",
    "        max_int - number of max iterations\n",
    "        \n",
    "    \"\"\"\n",
    "    n = size(tableau.T, 1)\n",
    "    m = size(tableau.T, 2)\n",
    "    \n",
    "    for int=1:max_int\n",
    "        #can't increase objective\n",
    "        if maximum(tableau.T[n, 1:(end - 1)]) <= 0\n",
    "            return tableau\n",
    "        end\n",
    "        \n",
    "        #variable to enter basis\n",
    "        s = argmax(tableau.T[n, 1:(end -1)])\n",
    "        \n",
    "        #check if is unbounded\n",
    "        if maximum(tableau.T[tableau.constraints,s]) <= 0\n",
    "            error(\"Problem is unbounded.\")\n",
    "        end\n",
    "        \n",
    "        \n",
    "        #ratio test to find variable to remove from basis\n",
    "        r = -1\n",
    "        min_ratio = Inf\n",
    "        for i in tableau.constraints\n",
    "            if tableau.T[i, s] > 0\n",
    "                new_ratio = tableau.T[i, m]/tableau.T[i, s]\n",
    "                if new_ratio < min_ratio\n",
    "                    r = i\n",
    "                    min_ratio = new_ratio\n",
    "                end\n",
    "            end\n",
    "        end\n",
    "        tableau = pivot_tableau(tableau, r, s)\n",
    "        tableau.iterations = int\n",
    "    end\n",
    "    \n",
    "    return tableau\n",
    "end\n",
    "\n",
    "\n",
    "mutable struct solution\n",
    "    objective::Float64\n",
    "    decision::Array{Float64, 1}\n",
    "    iterations::Int64\n",
    "end\n",
    "\n",
    "function create_solution(tableau::Tableau)\n",
    "    objective = tableau.T[end, end]\n",
    "    x = zeros(size(tableau.decision, 1))\n",
    "    for (key, value) in tableau.basis\n",
    "        if value in tableau.decision\n",
    "            x[value] = tableau.T[key, end]\n",
    "        end\n",
    "    end\n",
    "    return solution(objective, x, tableau.iterations)\n",
    "end\n",
    "\n",
    "function linear_program(c::Array{Float64,1},\n",
    "                        A::Array{Float64,2},\n",
    "                        b::Array{Float64,1},\n",
    "                        max_int::Int64,\n",
    "                        verbose::Bool,\n",
    "                        X::Array{Float64, 1})\n",
    "    \n",
    "    \n",
    "    n_variables = size(A, 2)\n",
    "    n_const = size(A, 1)\n",
    "    decision = collect(1:n_variables)\n",
    "    constraint = collect(1:n_const)\n",
    "    c = -1 * c\n",
    "    if verbose\n",
    "        println(string(n_variables) * \" decision variables.\")\n",
    "        println(string(n_const) * \" constraints.\")\n",
    "    end\n",
    "\n",
    "    T = zeros((n_const + 1), (n_variables + 1))\n",
    "    T[1:(end -1), :] = [A b]\n",
    "    T[end, :] = [c; 0]\n",
    "    \n",
    "    basis = Dict{Int64,Int64}()\n",
    "    \n",
    "    T, basis, artificial = add_artificial(T, n_const, basis)\n",
    "    \n",
    "    if verbose\n",
    "        println(string(size(artificial, 1)) * \" artificial variables.\")\n",
    "        println(\"Basis:\")\n",
    "        println(basis)\n",
    "    end\n",
    "    \n",
    "        \n",
    "    tableau = Tableau(T, basis, decision, [], artificial, constraint, 0) \n",
    "    \n",
    "    \n",
    "    inds = []\n",
    "    for i = 1:size(X, 1)\n",
    "        if X[i] > 0\n",
    "            inds = [inds; i]\n",
    "        end\n",
    "    end\n",
    "    \n",
    "    if verbose\n",
    "        println(\"Variables with non-zero values: \" * string(inds))\n",
    "    end\n",
    "    \n",
    "    \n",
    "    k = 1\n",
    "    while k <= size(inds, 1)\n",
    "        var_to_enter = inds[k]\n",
    "        possible_rows = []\n",
    "        for i = 1:n_const\n",
    "            if tableau.T[i, var_to_enter] == 1\n",
    "                possible_rows = [possible_rows; i]\n",
    "            end\n",
    "        end\n",
    "        \n",
    "        for i in possible_rows\n",
    "            if !(tableau.basis[i] in inds[1:k])\n",
    "                pivot_tableau(tableau, i, var_to_enter)\n",
    "                break\n",
    "            end\n",
    "        end\n",
    "        k = k + 1\n",
    "    end\n",
    "    \n",
    "    tableau.T = tableau.T[1:(end - 1), setdiff(1:size(tableau.T, 2), tableau.artificial)]\n",
    "    \n",
    "    if verbose\n",
    "        println(\"Basis after updated basis with initial values:\")\n",
    "        println(tableau.basis)\n",
    "    end\n",
    "    \n",
    "    tableau = simplex_iteration(tableau, max_int)\n",
    "    \n",
    "    return create_solution(tableau)\n",
    "end"
   ]
  },
  {
   "cell_type": "markdown",
   "metadata": {},
   "source": [
    "We create the matrix minimization method, in this method we focus on finding the limit for each constraint based on the current lowest cost. "
   ]
  },
  {
   "cell_type": "code",
   "execution_count": 2,
   "metadata": {},
   "outputs": [
    {
     "data": {
      "text/plain": [
       "matrix_method (generic function with 1 method)"
      ]
     },
     "execution_count": 2,
     "metadata": {},
     "output_type": "execute_result"
    }
   ],
   "source": [
    "function matrix_method(cost, demand, supply)\n",
    "    #In the cost matrix, each row represents a supply, each column represents a demand\n",
    "    #The quantitys for each vertex to be completed\n",
    "    demand_remaining = [d for d in demand]\n",
    "    supply_remaining = [s for s in supply]\n",
    "    #Indicating if some vertex if already fullfield\n",
    "    demand_bool = [false for _ in demand]\n",
    "    supply_bool = [false for _ in supply]\n",
    "    #Initial variable\n",
    "    x0 = [0 for _ in cost]\n",
    "    value, edge = findmin(cost)\n",
    "    \n",
    "    while sum(demand_remaining) + sum(supply_remaining) > 0\n",
    "        cur_supply = getindex(edge, 1)\n",
    "        cur_demand = getindex(edge, 2)\n",
    "        #Can only move the minimun between the supply and demand \n",
    "        edge_value = minimum([demand_remaining[cur_demand], supply_remaining[cur_supply]])\n",
    "        \n",
    "        #Update vectors\n",
    "        demand_remaining[cur_demand] -= edge_value\n",
    "        supply_remaining[cur_supply] -= edge_value\n",
    "        x0[cur_supply, cur_demand] = edge_value\n",
    "        \n",
    "        #Check if the updated vertex is complete\n",
    "        if demand_remaining[cur_demand]  == 0\n",
    "            demand_bool[cur_demand] = true\n",
    "        end\n",
    "        if supply_remaining[cur_supply] == 0\n",
    "            supply_bool[cur_supply] = true\n",
    "        end\n",
    "        \n",
    "        #Little trick to don't find arcs of completed vertex\n",
    "        cost[supply_bool, :] .= Inf\n",
    "        cost[:, demand_bool] .= Inf\n",
    "        value, edge = findmin(cost)\n",
    "    end\n",
    "    return x0\n",
    "end"
   ]
  },
  {
   "cell_type": "markdown",
   "metadata": {},
   "source": [
    "We also have to adapt our problem, currently $x$ is a $2D$ variable, we have to represent this matrix of variables in a 1D vector. For this, we are going to place variable $i, j$ at index $(j + (i - 1) \\cdot n)$ with $n$ being the number of rows. The costs matrix must also be flattened with the same index as the vraiables matrix.\n",
    "\n",
    "We also want to build the restrictions for the demand and supply arrays, for each vertex we need to create a restriction. We have a total of $n + m$ vertex, $n$ for supply and $m$ for demand, so $A$ will have size $[n + m, n\\cdot m]$ and $b$ will have size $[n + m]$."
   ]
  },
  {
   "cell_type": "code",
   "execution_count": 3,
   "metadata": {},
   "outputs": [
    {
     "data": {
      "text/plain": [
       "flatten_problem (generic function with 1 method)"
      ]
     },
     "execution_count": 3,
     "metadata": {},
     "output_type": "execute_result"
    }
   ],
   "source": [
    "function flatten_problem(x0::Array{Float64, 2}, \n",
    "                        costs::Array{Float64, 2},\n",
    "                        supply::Array{Float64, 1}, \n",
    "                        demand::Array{Float64, 1}) \n",
    "    n, m = size(x0)\n",
    "    x0_flat = zeros(n * m)\n",
    "    costs_flat = zeros(n * m)\n",
    "    for i = 1:n\n",
    "        for j = 1:m\n",
    "            x0_flat[j + (i - 1) * n] = x0[i, j]\n",
    "            costs_flat[j + (i - 1) * n] = costs[i, j]\n",
    "        end\n",
    "    end\n",
    "    \n",
    "    b = [supply; demand]\n",
    "    A = zeros(n+m, n*m)\n",
    "    \n",
    "    #supply restrictions\n",
    "    for i = 1:n\n",
    "        row = zeros(n * m)\n",
    "        for j = 1:m\n",
    "            row[j + (i - 1) * n] = 1\n",
    "        end\n",
    "        A[i, :] .= row\n",
    "    end\n",
    "    \n",
    "    #demand restriction\n",
    "    for j = 1:m\n",
    "        row = zeros(n * m)\n",
    "        for i = 1:n\n",
    "            row[j + (i - 1) * n] = 1\n",
    "        end\n",
    "        A[(n+j), :] .= row\n",
    "    end\n",
    "    return x0_flat, costs_flat, A, b\n",
    "end"
   ]
  },
  {
   "cell_type": "markdown",
   "metadata": {},
   "source": [
    "## Example\n",
    "\n",
    "For a simple example of the method we are going to use exercise 3 from chapter 8 of AMP. In this problem we have 5 demand vertex and 5 supply vertex. With the demand vector, supply vector and costs matrix we are going to initially compute a initial solution using matrix minimization method."
   ]
  },
  {
   "cell_type": "code",
   "execution_count": 4,
   "metadata": {},
   "outputs": [
    {
     "data": {
      "text/plain": [
       "5×5 Array{Int64,2}:\n",
       "   0   0   0  45   0\n",
       "  10  80   0   0   0\n",
       "   5   0  50  30  10\n",
       "   0   0   0   0  75\n",
       " 105   0   0   0   0"
      ]
     },
     "execution_count": 4,
     "metadata": {},
     "output_type": "execute_result"
    }
   ],
   "source": [
    "costs = [6. 6 9 4 10;\n",
    "3 2 7 5 12;\n",
    "8 7 5 6 4;\n",
    "11 12 9 5 2;\n",
    "4 3 4 5 11]\n",
    "demand = [120, 80, 50, 75, 85]\n",
    "supply = [45, 90, 95, 75, 105]\n",
    "\n",
    "x0 = matrix_method(copy(costs), copy(demand), copy(supply))\n",
    "x0_flat, c, A, b = flatten_problem(float(x0), costs, float(supply), float(demand))\n",
    "\n",
    "x0"
   ]
  },
  {
   "cell_type": "code",
   "execution_count": 5,
   "metadata": {},
   "outputs": [
    {
     "name": "stdout",
     "output_type": "stream",
     "text": [
      "25 decision variables.\n",
      "10 constraints.\n",
      "10 artificial variables.\n",
      "Basis:\n",
      "Dict(7 => 32,4 => 29,9 => 34,10 => 35,2 => 27,3 => 28,5 => 30,8 => 33,6 => 31,1 => 26)\n",
      "Variables with non-zero values: Any[4, 6, 7, 11, 13, 14, 15, 20, 21]\n",
      "Basis after updated basis with initial values:\n",
      "Dict(7 => 7,4 => 20,9 => 14,10 => 15,2 => 6,3 => 11,5 => 21,8 => 13,6 => 31,1 => 4)\n",
      "Z = 1450.0\n",
      "X = [0.0, 0.0, 0.0, 45.0, 0.0, 10.0, 80.0, 0.0, 0.0, 0.0, 5.0, 0.0, 50.0, 30.0, 10.0, 0.0, 0.0, 0.0, 0.0, 75.0, 105.0, 0.0, 0.0, 0.0, 0.0]\n",
      "Number of iterations: 0\n"
     ]
    }
   ],
   "source": [
    "sol = linear_program(c, A, b, 100, true, x0_flat)\n",
    "println(\"Z = \" * string(sol.objective))\n",
    "println(\"X = \" * string(sol.decision))\n",
    "println(\"Number of iterations: \" * string(sol.iterations))"
   ]
  },
  {
   "cell_type": "markdown",
   "metadata": {},
   "source": [
    "## Example with big problem\n",
    "\n",
    "We create a function with given number of supply and demand vertex, create a fake supply, demand and costs arrays."
   ]
  },
  {
   "cell_type": "code",
   "execution_count": 26,
   "metadata": {},
   "outputs": [
    {
     "data": {
      "text/plain": [
       "generate_fake (generic function with 1 method)"
      ]
     },
     "execution_count": 26,
     "metadata": {},
     "output_type": "execute_result"
    }
   ],
   "source": [
    "function generate_fake(n::Int64, m::Int64)\n",
    "    X = zeros(n, m)\n",
    "    c = zeros(n, m)\n",
    "    \n",
    "    for i = 1:n\n",
    "        for j = 1:m\n",
    "            not_zero = rand() > 0.6\n",
    "            if not_zero\n",
    "                X[i, j] = floor(rand() * 100)\n",
    "            end\n",
    "            \n",
    "            big_cost = rand() > 0.8\n",
    "            if big_cost\n",
    "                c[i, j] = floor(rand() * 20) + 2\n",
    "            else\n",
    "                c[i, j] = floor(rand() * 5) + 1\n",
    "            end\n",
    "        end\n",
    "    end\n",
    "    \n",
    "    supply = zeros(n)\n",
    "    demand = zeros(m)\n",
    "    \n",
    "    for i = 1:n\n",
    "        supply[i] = sum(X[i, :])\n",
    "    end\n",
    "    \n",
    "    for j = 1:m\n",
    "        demand[j] = sum(X[:, j])\n",
    "    end\n",
    "    \n",
    "    return X, c, supply, demand\n",
    "end"
   ]
  },
  {
   "cell_type": "markdown",
   "metadata": {},
   "source": [
    "__With 100 variables:__"
   ]
  },
  {
   "cell_type": "code",
   "execution_count": 27,
   "metadata": {},
   "outputs": [],
   "source": [
    "X, costs, supply, demand = generate_fake(10, 10)\n",
    "x0 = matrix_method(copy(costs), copy(demand), copy(supply))\n",
    "x0_flat, c, A, b = flatten_problem(float(x0), costs, float(supply), float(demand));"
   ]
  },
  {
   "cell_type": "code",
   "execution_count": 28,
   "metadata": {},
   "outputs": [
    {
     "name": "stdout",
     "output_type": "stream",
     "text": [
      "Number of iterations: 3\n",
      "Objective: 3242.0\n"
     ]
    }
   ],
   "source": [
    "sol = linear_program(c, A, b, 100, false, x0_flat)\n",
    "println(\"Number of iterations: \" * string(sol.iterations))\n",
    "println(\"Objective: \" * string(sol.objective))"
   ]
  },
  {
   "cell_type": "code",
   "execution_count": 29,
   "metadata": {},
   "outputs": [
    {
     "name": "stdout",
     "output_type": "stream",
     "text": [
      "Welcome to the CBC MILP Solver \n",
      "Version: 2.10.3 \n",
      "Build Date: Jan  1 1970 \n",
      "\n",
      "command line - Cbc_C_Interface -solve -quit (default strategy 1)\n",
      "Presolve 20 (0) rows, 100 (0) columns and 200 (0) elements\n",
      "Perturbing problem by 0.001% of 18 - largest nonzero change 8.8166274e-05 ( 0.0018434118%) - largest zero change 0\n",
      "0  Obj 0 Primal inf 4324 (20)\n",
      "20  Obj 3242.034\n",
      "Optimal - objective value 3242\n",
      "Optimal objective 3242 - 20 iterations time 0.002\n",
      "Total time (CPU seconds):       0.00   (Wallclock seconds):       0.00\n",
      "\n"
     ]
    }
   ],
   "source": [
    "using JuMP\n",
    "using Cbc\n",
    "\n",
    "m = Model(Cbc.Optimizer)\n",
    "\n",
    "@variable(m, x[1:10, 1:10] >= 0)\n",
    "set_start_value.(x, x0)\n",
    "\n",
    "@constraint(m, const_demand[i=1:10], sum(x[:, i]) == demand[i])\n",
    "\n",
    "@constraint(m, const_supply[i=1:10], sum(x[i, :]) == supply[i])\n",
    "\n",
    "@objective(m, Min, sum(x .* costs))\n",
    "optimize!(m)"
   ]
  },
  {
   "cell_type": "markdown",
   "metadata": {},
   "source": [
    "__With 10000 variables__:"
   ]
  },
  {
   "cell_type": "code",
   "execution_count": 30,
   "metadata": {},
   "outputs": [],
   "source": [
    "X, costs, supply, demand = generate_fake(100, 100)\n",
    "x0 = matrix_method(copy(costs), copy(demand), copy(supply))\n",
    "x0_flat, c, A, b = flatten_problem(float(x0), costs, float(supply), float(demand));"
   ]
  },
  {
   "cell_type": "code",
   "execution_count": 32,
   "metadata": {},
   "outputs": [
    {
     "name": "stdout",
     "output_type": "stream",
     "text": [
      "Number of iterations: 45\n",
      "Objective: 200946.0\n"
     ]
    }
   ],
   "source": [
    "sol = linear_program(c, A, b, 100, false, x0_flat)\n",
    "println(\"Number of iterations: \" * string(sol.iterations))\n",
    "println(\"Objective: \" * string(sol.objective))"
   ]
  },
  {
   "cell_type": "code",
   "execution_count": 34,
   "metadata": {},
   "outputs": [
    {
     "name": "stdout",
     "output_type": "stream",
     "text": [
      "Welcome to the CBC MILP Solver \n",
      "Version: 2.10.3 \n",
      "Build Date: Jan  1 1970 \n",
      "\n",
      "command line - Cbc_C_Interface -solve -quit (default strategy 1)\n",
      "Presolve 200 (0) rows, 10000 (0) columns and 20000 (0) elements\n",
      "Perturbing problem by 0.001% of 21 - largest nonzero change 9.999495e-05 ( 0.0020499219%) - largest zero change 0\n",
      "0  Obj 0 Primal inf 401892 (200)\n",
      "77  Obj 80992.914 Primal inf 317865.1 (161)\n",
      "156  Obj 141459.57 Primal inf 322055 (128)\n",
      "217  Obj 166549.94 Primal inf 236771.2 (114)\n",
      "279  Obj 199798.23 Primal inf 116402 (76)\n",
      "337  Obj 200948.27 Primal inf 96573.5 (77)\n",
      "385  Obj 200948.28 Primal inf 4073.1 (32)\n",
      "419  Obj 200948.28\n",
      "Optimal - objective value 200946\n",
      "Optimal objective 200946 - 419 iterations time 0.022\n",
      "Total time (CPU seconds):       0.02   (Wallclock seconds):       0.02\n",
      "\n"
     ]
    }
   ],
   "source": [
    "m = Model(Cbc.Optimizer)\n",
    "\n",
    "@variable(m, x[1:100, 1:100] >= 0)\n",
    "set_start_value.(x, x0)\n",
    "\n",
    "@constraint(m, const_demand[i=1:100], sum(x[:, i]) == demand[i])\n",
    "\n",
    "@constraint(m, const_supply[i=1:100], sum(x[i, :]) == supply[i])\n",
    "\n",
    "@objective(m, Min, sum(x .* costs))\n",
    "optimize!(m)"
   ]
  },
  {
   "cell_type": "code",
   "execution_count": null,
   "metadata": {},
   "outputs": [],
   "source": []
  }
 ],
 "metadata": {
  "kernelspec": {
   "display_name": "Julia 1.5.3",
   "language": "julia",
   "name": "julia-1.5"
  },
  "language_info": {
   "file_extension": ".jl",
   "mimetype": "application/julia",
   "name": "julia",
   "version": "1.5.3"
  }
 },
 "nbformat": 4,
 "nbformat_minor": 4
}
