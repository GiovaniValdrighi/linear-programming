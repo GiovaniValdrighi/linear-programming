{
 "cells": [
  {
   "cell_type": "code",
   "execution_count": 1,
   "metadata": {},
   "outputs": [],
   "source": [
    "using LinearAlgebra"
   ]
  },
  {
   "cell_type": "code",
   "execution_count": 2,
   "metadata": {},
   "outputs": [],
   "source": [
    "mutable struct Tableau\n",
    "    A::Array{Float64,2}\n",
    "    b::Array{Float64,1}\n",
    "    c::Array{Float64,1}\n",
    "    basis::Dict{Int64,Int64}\n",
    "end"
   ]
  },
  {
   "cell_type": "code",
   "execution_count": 3,
   "metadata": {},
   "outputs": [],
   "source": [
    "mutable struct TableauI\n",
    "    A::Array{Float64,2}\n",
    "    b::Array{Float64,1}\n",
    "    c::Array{Float64,1}\n",
    "    cw::Array{Float64, 1}\n",
    "    basis::Dict{Int64,Int64}\n",
    "end"
   ]
  },
  {
   "cell_type": "code",
   "execution_count": 4,
   "metadata": {},
   "outputs": [],
   "source": [
    "mutable struct Solution\n",
    "    F::Float64\n",
    "    Decision::Array{Float64, 1}\n",
    "    Slack::Array{Float64, 1}\n",
    "end"
   ]
  },
  {
   "cell_type": "code",
   "execution_count": 5,
   "metadata": {},
   "outputs": [
    {
     "data": {
      "text/plain": [
       "obtain_solution (generic function with 1 method)"
      ]
     },
     "execution_count": 5,
     "metadata": {},
     "output_type": "execute_result"
    }
   ],
   "source": [
    "function obtain_solution(T::Tableau, \n",
    "                        decision_variables::Array{Int64, 1},\n",
    "                        slack_variables::Array{Int64, 1}, \n",
    "                        artificial_variables::Array{Int64, 1})\n",
    "    \n",
    "    #array for decision variables\n",
    "    X = zeros((size(decision_variables, 1)))\n",
    "    #array for slack variables\n",
    "    X_hat = zeros((size(slack_variables)))\n",
    "    \n",
    "    #for each line of A, look at variable at basis\n",
    "    for (key, value) in T.basis\n",
    "        if value in slack_variables\n",
    "            X_hat[(value - size(X, 1))] = T.b[key]\n",
    "        else\n",
    "            X[value] = T.b[key]\n",
    "            \n",
    "        end\n",
    "    end\n",
    "    return Solution(-1*T.b[size(T.b, 1)],\n",
    "                    X,\n",
    "                    X_hat)\n",
    "end"
   ]
  },
  {
   "cell_type": "code",
   "execution_count": 6,
   "metadata": {},
   "outputs": [
    {
     "data": {
      "text/plain": [
       "simplex_iterationI (generic function with 1 method)"
      ]
     },
     "execution_count": 6,
     "metadata": {},
     "output_type": "execute_result"
    }
   ],
   "source": [
    "function pivot_tableauI(T::TableauI, r::Int64, s::Int64)\n",
    "    \"\"\"\n",
    "    Function that pivot simplex table on the coefficient [r, s]\n",
    "    Return pivoted table\n",
    "    \"\"\"\n",
    "    \n",
    "    #remove line from basis\n",
    "    delete!(T.basis, r)\n",
    "    push!(T.basis, r => s)   \n",
    "    \n",
    "    \n",
    "    #Pivot A, b, c with new non-zero variables\n",
    "    T.b[(size(T.b, 1) - 1)] = T.b[(size(T.b, 1) - 1)] - T.c[s]*T.b[r]/T.A[r, s]\n",
    "    T.b[(size(T.b, 1))] = T.b[(size(T.b, 1))] - T.cw[s]*T.b[r]/T.A[r, s]\n",
    "    T.c .= T.c .- (T.c[s] .* T.A[r, :]/T.A[r, s])\n",
    "    T.cw .= T.cw .- (T.cw[s] .* T.A[r, :]/T.A[r, s])\n",
    "    \n",
    "    aux = T.b[r]/T.A[r, s]\n",
    "\n",
    "    T.b[1:(size(T.b, 1) - 2)] .= T.b[1:(size(T.b, 1) - 2)] .- T.A[:, s]*aux\n",
    "    T.b[r] = aux\n",
    "    \n",
    "    T.A[r, :] .= T.A[r, :]/T.A[r, s]\n",
    "    for i = 1:size(T.A, 1)\n",
    "        if i != r\n",
    "            T.A[i, :] .= T.A[i, :] .- (T.A[i, s] * T.A[r, :])\n",
    "        end\n",
    "    end\n",
    "    return T\n",
    "end\n",
    "\n",
    "\n",
    "function simplex_iterationI(T::TableauI)\n",
    "    \n",
    "    k = 0\n",
    "    #Can't increase z\n",
    "    while (maximum(T.cw) > 0) & (k < 100)\n",
    "        #Column to pivot\n",
    "        s = argmax(T.cw)\n",
    "        \n",
    "        #Check if is unbounded\n",
    "        if maximum(T.A[:, s]) <= 0\n",
    "            error(\"Problem unbounded.\")\n",
    "        end\n",
    "\n",
    "        #Ratio test to chose row to pivot\n",
    "        r = 1\n",
    "        min_ratio = T.b[1]/T.A[1, s]\n",
    "        for i = 2:size(T.A, 1)\n",
    "            if T.A[i, s] > 0\n",
    "                new_ratio = T.b[i]/T.A[i, s]\n",
    "                if new_ratio < min_ratio\n",
    "                    r = i\n",
    "                    min_ratio = new_ratio\n",
    "                end\n",
    "            end\n",
    "        end\n",
    "        \n",
    "        T = pivot_tableauI(T, r, s) \n",
    "        k = k +1\n",
    "    end\n",
    "    return T\n",
    "end"
   ]
  },
  {
   "cell_type": "code",
   "execution_count": 7,
   "metadata": {},
   "outputs": [
    {
     "data": {
      "text/plain": [
       "simplex_iteration (generic function with 1 method)"
      ]
     },
     "execution_count": 7,
     "metadata": {},
     "output_type": "execute_result"
    }
   ],
   "source": [
    "function pivot_tableau(T::Tableau, r::Int64, s::Int64)\n",
    "    \"\"\"\n",
    "    Function that pivot simplex table on the coefficient [r, s]\n",
    "    Return pivoted table\n",
    "    \"\"\"\n",
    "    \n",
    "    #remove line from basis\n",
    "    delete!(T.basis, r)\n",
    "    push!(T.basis, r => s)   \n",
    "    \n",
    "    \n",
    "    #Pivot A, b, c with new non-zero variables\n",
    "    T.b[size(T.b, 1)] = T.b[size(T.b, 1)] - T.c[s]*T.b[r]/T.A[r, s]\n",
    "    T.c .= T.c .- (T.c[s] .* T.A[r, :]/T.A[r, s])\n",
    "    \n",
    "    aux = T.b[r]/T.A[r, s]\n",
    "\n",
    "    T.b[1:(size(T.b, 1) - 1)] .= T.b[1:(size(T.b, 1) - 1)] .- T.A[:, s]*aux\n",
    "    T.b[r] = aux\n",
    "    \n",
    "    T.A[r, :] .= T.A[r, :]/T.A[r, s]\n",
    "    for i = 1:size(T.A, 1)\n",
    "        if i != r\n",
    "            T.A[i, :] .= T.A[i, :] .- (T.A[i, s] * T.A[r, :])\n",
    "        end\n",
    "    end\n",
    "    return T\n",
    "end\n",
    "\n",
    "\n",
    "function simplex_iteration(T::Tableau)\n",
    "    \n",
    "    k = 0\n",
    "    #Can't increase z\n",
    "    while (maximum(T.c) > 0) & (k < 100)\n",
    "        #Column to pivot\n",
    "        s = argmax(T.c)\n",
    "        \n",
    "        #Check if is unbounded\n",
    "        if maximum(T.A[:, s]) <= 0\n",
    "            error(\"Problem unbounded.\")\n",
    "        end\n",
    "\n",
    "        #Ratio test to chose row to pivot\n",
    "        r = 1\n",
    "        min_ratio = T.b[1]/T.A[1, s]\n",
    "        for i = 2:size(T.A, 1)\n",
    "            if T.A[i, s] > 0\n",
    "                new_ratio = T.b[i]/T.A[i, s]\n",
    "                if new_ratio < min_ratio\n",
    "                    r = i\n",
    "                    min_ratio = new_ratio\n",
    "                end\n",
    "            end\n",
    "        end\n",
    "        \n",
    "        T = pivot_tableau(T, r, s) \n",
    "        k = k +1\n",
    "    end\n",
    "    return T\n",
    "end"
   ]
  },
  {
   "cell_type": "code",
   "execution_count": 8,
   "metadata": {},
   "outputs": [
    {
     "data": {
      "text/plain": [
       "model_setup (generic function with 1 method)"
      ]
     },
     "execution_count": 8,
     "metadata": {},
     "output_type": "execute_result"
    }
   ],
   "source": [
    "function model_setup(c::Array{Float64,1},\n",
    "                    A_ub::Array{Float64,2},\n",
    "                    b_ub::Array{Float64,1},\n",
    "                    A_eq::Array{Float64,2},\n",
    "                    b_eq::Array{Float64,1},\n",
    "                    verbose::Bool)\n",
    "   \"\"\"\n",
    "    Function for linear programming using simplex algorithm\n",
    "    Optimize the following problem\n",
    "    \n",
    "    Max:\n",
    "        c * x\n",
    "    subject to:\n",
    "        A_ub * x <= b_ub\n",
    "        A_eq * x == b_eq\n",
    "    \n",
    "    A_ub and A_eq should have the same number of columns as c (the number of variables)\n",
    "    b_ub should have the same number of rows of A_ub and b_eq should have the same number of rows of A_eq\n",
    "    \n",
    "    TODO: real variables\n",
    "    \"\"\" \n",
    "    \n",
    "    n_variables = size(A_ub, 2)\n",
    "    decisions_index = collect((1:n_variables))\n",
    "    n_ub_const = size(A_ub, 1)\n",
    "    n_eq_const = size(A_eq, 1)\n",
    "    if verbose\n",
    "        println(\"Total of \" * string(n_ub_const) * \" inequality constraints.\")\n",
    "        println(\"Total of \" * string(n_eq_const) * \" equality constraints.\")\n",
    "        println(\"Total of \" * string(n_variables) * \" variables.\")\n",
    "    end\n",
    "    \n",
    "    #adding slack variables\n",
    "    A_ub = [A_ub Matrix(I(n_ub_const)*1.0)]\n",
    "    A_eq = [A_eq zeros(size(A_eq, 1), n_ub_const)]\n",
    "    slacks_index = collect((n_variables + 1):(n_variables + n_ub_const))\n",
    "    c = [c; zeros(n_ub_const)]\n",
    "    if verbose\n",
    "        println(\"Added \" * string(size(slacks_index)[1]) * \" slack variables.\")\n",
    "    end\n",
    "    \n",
    "    basis = Dict{Int64,Int64}()\n",
    "    #will add slack variables where b[i] >= 0 to the basis \n",
    "    for i in 1:n_ub_const\n",
    "        if b_ub[i] >= 0\n",
    "            push!(basis, i => (i+n_variables))\n",
    "        #if is b[i] < 0, multiply row by -1\n",
    "        else\n",
    "            b_ub[i] = -1* b_ub[i]  \n",
    "            A_ub[i, :] = -1 * A_ub[i, :]\n",
    "        end\n",
    "    end\n",
    "    \n",
    "    if verbose\n",
    "        println(\"Slacks variables on the basis:\")\n",
    "        println(basis)\n",
    "    end\n",
    "    \n",
    "    \n",
    "    for i in 1:n_eq_const\n",
    "        if b_eq[i] < 0\n",
    "            b_eq[i] = -1*b_eq[i]\n",
    "            A_eq[i, :] = -1 * A_eq[i, :]\n",
    "        end\n",
    "    end\n",
    "    \n",
    "    A = [A_ub; A_eq]\n",
    "    b = [b_ub; b_eq; 0.0]\n",
    "    n_const = size(A, 1)\n",
    "    \n",
    "    \n",
    "    artificial_variables = Int64[]\n",
    "    new_c = zeros(n_variables)\n",
    "    new_b = zeros((n_const + 2))\n",
    "    new_b[1:(n_const +1)] = b\n",
    "    #for each row without a basis\n",
    "    for i in 1:n_const\n",
    "        if !(i in keys(basis))\n",
    "            #row dont have basis\n",
    "            #looking for isolated variable\n",
    "            need_artificial = true\n",
    "            for j in 1:size(A, 2)\n",
    "                #check if there is isolated variable and not in basis\n",
    "                if (sum(abs.(A[:, j])) == abs(A[i, j])) & !(j in values(basis))\n",
    "                    #normalize row and add to basis\n",
    "                    A[:, j] = A[:, j]/A[i, j]\n",
    "                    push!(basis, i => j)\n",
    "                    need_artificial = false\n",
    "                    break\n",
    "                end\n",
    "            end\n",
    "            \n",
    "            if need_artificial\n",
    "                aux = zeros(n_const)\n",
    "                aux[i] = 1.0\n",
    "                A = [A aux]\n",
    "                artificial_variables = [artificial_variables; size(A, 2)]\n",
    "                push!(basis, i => last(artificial_variables))\n",
    "                new_c = new_c + A[i, 1:n_variables]\n",
    "                new_b[size(new_b, 1)] = new_b[size(new_b, 1)] + b[i] \n",
    "            end\n",
    "        end\n",
    "    end\n",
    "    \n",
    "    if verbose\n",
    "        println(\"Added \" * string(size(artificial_variables, 1)) * \" artificial variables.\")\n",
    "        println(basis)     \n",
    "    end\n",
    "    for i in artificial_variables\n",
    "        new_c = [new_c; 0.0]\n",
    "    end\n",
    "    \n",
    "    \n",
    "    #if phase I is needed, otherwise go to phase II\n",
    "    if size(artificial_variables, 1) > 0\n",
    "        #add zeros for artificial variables\n",
    "        for i in artificial_variables\n",
    "            c = [c; 0.0]\n",
    "        end\n",
    "        \n",
    "        #solve problem with artificial variables\n",
    "        T = TableauI(A, new_b, c, new_c, basis)\n",
    "        T = simplex_iterationI(T)\n",
    "        if verbose\n",
    "            println(\"Basis after phase I\")\n",
    "            println(T.basis)\n",
    "        end\n",
    "        \n",
    "        #check if solution is equal to 0\n",
    "        if last(T.b) == 0.0\n",
    "            \n",
    "            #check if there is artificial variable on basis\n",
    "            for (key, value) in T.basis\n",
    "                if value in artificial_variables\n",
    "                    #check if every other value in this row is 0\n",
    "                    non_zero_index = 0\n",
    "                    all_zero = true\n",
    "                    for j in 1:size(A, 2)\n",
    "                        if T.A[key, j] != 0\n",
    "                            all_zero = false\n",
    "                            non_zero_index = copy(j)\n",
    "                            break\n",
    "                        end\n",
    "                    end\n",
    "                    \n",
    "                    #don't have all zero\n",
    "                    if !all_zero\n",
    "                        #pivot on non zero column\n",
    "                        T = pivot_tableauI(T, key, non_zero_index)\n",
    "                    end\n",
    "                end\n",
    "            end\n",
    "            \n",
    "            if verbose\n",
    "                println(\"Basis after removing artificial variables.\")\n",
    "                println(T.basis)\n",
    "                println(\"Removing artificial variables of tableau\")\n",
    "            end\n",
    "            for var in reverse!(artificial_variables)\n",
    "                if !(var in values(T.basis))\n",
    "                    T.A = T.A[:, 1:end .!=var]\n",
    "                    T.c = T.c[1:end .!=var]\n",
    "                end\n",
    "            end\n",
    "            T = Tableau(T.A, T.b[1:(size(T.A, 1) + 1)], T.c, T.basis)\n",
    "            T =  simplex_iteration(T)\n",
    "            return obtain_solution(T, decisions_index, slacks_index, artificial_variables)\n",
    "        else\n",
    "            error(\"Cant place in canonical form.\")\n",
    "        end\n",
    "    else        \n",
    "        T = Tableau(A, b, c, basis)\n",
    "        T = simplex_iteration(T)\n",
    "        return obtain_solution(T, decisions_index, slacks_index, artificial_variables)\n",
    "    end\n",
    "end"
   ]
  },
  {
   "cell_type": "code",
   "execution_count": 29,
   "metadata": {},
   "outputs": [
    {
     "name": "stdout",
     "output_type": "stream",
     "text": [
      "Total of 2 inequality constraints.\n",
      "Total of 0 equality constraints.\n",
      "Total of 3 variables.\n",
      "Added 2 slack variables.\n",
      "Slacks variables on the basis:\n",
      "Dict(2 => 5,1 => 4)\n",
      "Added 0 artificial variables.\n",
      "Dict(2 => 5,1 => 4)\n",
      "Solution value294.0\n",
      "Decision varaibles[35.99999999999999, 0.0, 6.000000000000002]\n"
     ]
    }
   ],
   "source": [
    "A_ub = [[0.5 2 1];\n",
    "    [1 2 4]]\n",
    "b_ub = [24.0, 60.0];\n",
    "c = [6.0, 14, 13];\n",
    "A_eq = Array{Float64}(undef, 0, 3);\n",
    "b_eq = Array{Float64}(undef,0 );\n",
    "solution = model_setup(c, A_ub, b_ub, A_eq, b_eq, true)\n",
    "println(\"Solution value\" * string(solution.F))\n",
    "println(\"Decision varaibles\" * string(solution.Decision))"
   ]
  },
  {
   "cell_type": "code",
   "execution_count": 30,
   "metadata": {},
   "outputs": [
    {
     "name": "stdout",
     "output_type": "stream",
     "text": [
      "Total of 0 inequality constraints.\n",
      "Total of 3 equality constraints.\n",
      "Total of 4 variables.\n",
      "Added 0 slack variables.\n",
      "Slacks variables on the basis:\n",
      "Dict{Int64,Int64}()\n",
      "Added 3 artificial variables.\n",
      "Dict(2 => 6,3 => 7,1 => 5)\n",
      "Basis after phase I\n",
      "Dict(2 => 2,3 => 7,1 => 1)\n",
      "Basis after removing artificial variables.\n",
      "Dict(2 => 2,3 => 4,1 => 1)\n",
      "Removing artificial variables of tableau\n",
      "Solution value1.5\n",
      "Decision varaibles[0.0, 2.5, 1.5, 0.0]\n"
     ]
    }
   ],
   "source": [
    "A_eq = [[1.0 1 1 1];\n",
    "    [-2 1 -1 0];\n",
    "    [0 3 1 1]]\n",
    "b_eq = [4.0, 1, 9]\n",
    "c = [-3.0, 0, 1, 0]\n",
    "A_ub = Array{Float64}(undef,0, 4);\n",
    "b_ub = Array{Float64}(undef,0 );\n",
    "solution = model_setup(c, A_ub, b_ub, A_eq, b_eq, true)\n",
    "println(\"Solution value\" * string(solution.F))\n",
    "println(\"Decision varaibles\" * string(solution.Decision))"
   ]
  },
  {
   "cell_type": "code",
   "execution_count": 10,
   "metadata": {},
   "outputs": [
    {
     "name": "stdout",
     "output_type": "stream",
     "text": [
      "Total of 0 inequality constraints.\n",
      "Total of 3 equality constraints.\n",
      "Total of 3 variables.\n",
      "Added 0 slack variables.\n",
      "Slacks variables on the basis:\n",
      "Dict{Int64,Int64}()\n",
      "Added 3 artificial variables.\n",
      "Dict(2 => 5,3 => 6,1 => 4)\n",
      "Basis after phase I\n",
      "Dict(2 => 3,3 => 2,1 => 1)\n",
      "Basis after removing artificial variables.\n",
      "Dict(2 => 3,3 => 2,1 => 1)\n",
      "Removing artificial variables of tableau\n",
      "Solution value1.9999999999999998\n",
      "Decision varaibles[0.5, 0.0, 1.5]\n"
     ]
    }
   ],
   "source": [
    "A_eq = [[1.0 -2 1];\n",
    "    [-1 -3 1];\n",
    "    [2 -3 4]]\n",
    "b_eq = [2., 1, 7]\n",
    "c = [1., 1, 1]\n",
    "A_ub = Array{Float64}(undef,0, 3);\n",
    "b_ub = Array{Float64}(undef,0 );\n",
    "solution = model_setup(c, A_ub, b_ub, A_eq, b_eq, true)\n",
    "println(\"Solution value\" * string(solution.F))\n",
    "println(\"Decision varaibles\" * string(solution.Decision))"
   ]
  },
  {
   "cell_type": "code",
   "execution_count": null,
   "metadata": {},
   "outputs": [],
   "source": []
  },
  {
   "cell_type": "code",
   "execution_count": 9,
   "metadata": {},
   "outputs": [
    {
     "data": {
      "text/plain": [
       "run_random (generic function with 1 method)"
      ]
     },
     "execution_count": 9,
     "metadata": {},
     "output_type": "execute_result"
    }
   ],
   "source": [
    "#example with many variables and many constraints\n",
    "function run_random(constraints::Int64, variables::Int64)\n",
    "    A_ub = rand(Float64, (constraints, variables))\n",
    "    b_ub = rand(Float64, (constraints)) * 5\n",
    "    c = rand(Float64, (variables)) * 2\n",
    "    A_eq = Array{Float64}(undef, 0, variables);\n",
    "    b_eq = Array{Float64}(undef,0 );\n",
    "    solution = model_setup(c, A_ub, b_ub, A_eq, b_eq, false)\n",
    "end"
   ]
  },
  {
   "cell_type": "code",
   "execution_count": 10,
   "metadata": {},
   "outputs": [],
   "source": [
    "using BenchmarkTools"
   ]
  },
  {
   "cell_type": "code",
   "execution_count": 11,
   "metadata": {},
   "outputs": [
    {
     "name": "stdout",
     "output_type": "stream",
     "text": [
      "  6.899 μs (87 allocations: 20.58 KiB)\n"
     ]
    },
    {
     "data": {
      "text/plain": [
       "Solution(3.385906330637005, [0.0, 0.0, 0.0, 0.0, 0.0, 0.0, 0.0, 0.0, 0.0, 0.0, 1.6969998360021734, 0.0, 0.0, 0.0, 0.2864524501299704], [1.12955510611867, 1.0078762057259294, 0.0, 2.504973257659232, 1.2767773570186751, 2.769370374586511, 3.367944271060683, 3.1043088090155644, 0.0, 3.942078959554846])"
      ]
     },
     "execution_count": 11,
     "metadata": {},
     "output_type": "execute_result"
    }
   ],
   "source": [
    "@btime run_random(10, 15)"
   ]
  },
  {
   "cell_type": "code",
   "execution_count": 12,
   "metadata": {},
   "outputs": [
    {
     "name": "stdout",
     "output_type": "stream",
     "text": [
      "  89.400 μs (366 allocations: 587.77 KiB)\n"
     ]
    },
    {
     "data": {
      "text/plain": [
       "Solution(0.20856489141130147, [0.0, 0.0, 0.033757304932796564, 0.0, 0.0, 0.1992365900170919, 0.0, 0.0, 0.03547465944631663, 0.0, 0.0, 0.0, 0.0, 0.0, 0.0], [1.4916716926596971, 1.3565420046762247, 4.298171899146448, 2.7581307584404, 3.3994654586570547, 1.5582384408586134, 3.17991266259131, 4.717706603958671, 2.6901621253458408, 4.3734997135772895  …  1.8534954703694564, 3.0681202142267647, 0.11483820606027347, 0.1339661871207433, 0.8852151775679284, 4.777364175745463, 2.691252133133439, 4.30409589957443, 3.1199098299659314, 0.5894495822848405])"
      ]
     },
     "execution_count": 12,
     "metadata": {},
     "output_type": "execute_result"
    }
   ],
   "source": [
    "@btime run_random(100, 15)"
   ]
  },
  {
   "cell_type": "code",
   "execution_count": 18,
   "metadata": {},
   "outputs": [
    {
     "name": "stdout",
     "output_type": "stream",
     "text": [
      "  18.395 ms (3085 allocations: 47.06 MiB)\n"
     ]
    },
    {
     "data": {
      "text/plain": [
       "Solution(0.06221305037333735, [0.0, 0.0, 0.0, 0.0, 0.0, 0.0, 0.00027812236765778486, 0.0, 0.005502134035556994, 0.0, 0.0, 0.0, 0.0, 0.0, 0.029237514481134985], [1.0292238164531942, 1.574618274590502, 2.6150522516608765, 4.91523436653346, 3.867254286484046, 0.9314108187315226, 0.2925991765789897, 3.206725234625447, 4.162610838182865, 1.302442735261727  …  2.427523146886662, 2.346292501378106, 1.8760280656573434, 4.987176612029396, 0.15898425254934073, 3.7215429779679416, 4.065137158667132, 4.91699693463281, 4.227730002473541, 2.5658444063659713])"
      ]
     },
     "execution_count": 18,
     "metadata": {},
     "output_type": "execute_result"
    }
   ],
   "source": [
    "@btime run_random(1000, 15)"
   ]
  },
  {
   "cell_type": "code",
   "execution_count": 14,
   "metadata": {},
   "outputs": [
    {
     "name": "stdout",
     "output_type": "stream",
     "text": [
      "  36.334 s (420178 allocations: 17.93 GiB)\n"
     ]
    },
    {
     "data": {
      "text/plain": [
       "Solution(0.0012205370346504948, [0.0005586602089461733, 0.0, 0.0, 0.0, 0.0, 0.0, 0.0, 0.0, 0.0, 0.0, 0.0, 0.0, 0.0, 0.00026172568245654845, 0.0], [3.095859787343994, 3.445682611247458, 1.4404445110543955, 4.90303693548331, 3.747113034696484, 4.670563637145094, 2.454663652182882, 2.2521709173606435, 0.4408596056209593, 1.697590998597927  …  3.5052982526677186, 1.5570496488455217, 4.640174912772722, 2.8504033838457503, 4.648761674478382, 2.9516446135651253, 1.82079132680309, 3.7558614090140834, 4.8669282853464155, 2.7844942707894504])"
      ]
     },
     "execution_count": 14,
     "metadata": {},
     "output_type": "execute_result"
    }
   ],
   "source": [
    "@btime run_random(10000, 15)"
   ]
  },
  {
   "cell_type": "code",
   "execution_count": 15,
   "metadata": {},
   "outputs": [
    {
     "name": "stdout",
     "output_type": "stream",
     "text": [
      "  7.200 μs (87 allocations: 23.47 KiB)\n"
     ]
    },
    {
     "data": {
      "text/plain": [
       "Solution(2.0082696295200693, [0.0, 0.0, 0.0, 0.0, 0.0, 0.7972796906418358, 0.0, 0.0, 0.0, 0.0, 0.5952498340863022, 0.0, 0.0, 0.0, 0.0, 0.0, 0.0, 0.0, 0.0, 0.0], [3.000621532414846, 0.831710530517439, 0.0, 1.2900949653380236, 2.9845283309194652, 3.8146214203069055, 2.9428465156462416, 0.0, 1.1187263452731875, 1.9941204336384692])"
      ]
     },
     "execution_count": 15,
     "metadata": {},
     "output_type": "execute_result"
    }
   ],
   "source": [
    "@btime run_random(10, 20)"
   ]
  },
  {
   "cell_type": "code",
   "execution_count": 16,
   "metadata": {},
   "outputs": [
    {
     "name": "stdout",
     "output_type": "stream",
     "text": [
      "  94.601 μs (366 allocations: 623.22 KiB)\n"
     ]
    },
    {
     "data": {
      "text/plain": [
       "Solution(-1.0407534216273089, [-1.8187439238006442, 0.0, 0.0, 0.0, 0.0, 0.0, 5.069842398956855, 0.0, -4.000661712931615, 0.0, 0.0, 0.0, 0.0, 0.0, 0.0, 0.0, 0.0, 0.0, 0.0, 0.0], [0.0, 5.166537723355261, -1.3460568367781556, 0.9973084321707759, 1.0819229347485777, 4.835515058603869, 4.53228991479525, 5.537330050056483, 2.9451180513561463, 3.3886156596891404  …  4.385674955222662, 1.3684618669830912, 4.052282619370095, 5.221501539969754, -2.1957853180895333, 1.3928211527576746, 0.8690839786331481, 4.24459279975762, -1.6188562494941938, 5.637089685201149])"
      ]
     },
     "execution_count": 16,
     "metadata": {},
     "output_type": "execute_result"
    }
   ],
   "source": [
    "@btime run_random(100, 20)"
   ]
  },
  {
   "cell_type": "code",
   "execution_count": 17,
   "metadata": {},
   "outputs": [
    {
     "name": "stdout",
     "output_type": "stream",
     "text": [
      "  41.251 ms (6091 allocations: 71.21 MiB)\n"
     ]
    },
    {
     "data": {
      "text/plain": [
       "Solution(-4.001471945795533, [0.0, 8.469418654897245, 0.0, 0.0, 0.0, 0.0, 0.0, 0.0, 0.0, 0.0, 0.0, 0.0, 0.0, 0.0, -16.06406034894548, 0.0, 0.0, 0.0, 0.0, 0.0], [0.0, 5.363374391930585, 0.7823374875467106, 0.897296838858364, 7.0448923023755, -5.599246390061219, 3.7526998123916075, 4.271039393562813, 10.690951374950483, 1.895730927704753  …  9.693181573607514, 5.375992709254608, 9.488886839884225, 13.126766145030178, 5.25880760709268, 4.937901557245969, -0.05989775656112428, 1.3645778650004647, 5.317831950245043, 7.471128425456778])"
      ]
     },
     "execution_count": 17,
     "metadata": {},
     "output_type": "execute_result"
    }
   ],
   "source": [
    "@btime run_random(1000, 20)"
   ]
  },
  {
   "cell_type": "code",
   "execution_count": null,
   "metadata": {},
   "outputs": [],
   "source": [
    "@btime run_random(10000, 20)"
   ]
  },
  {
   "cell_type": "code",
   "execution_count": null,
   "metadata": {},
   "outputs": [],
   "source": []
  }
 ],
 "metadata": {
  "kernelspec": {
   "display_name": "Julia 1.5.3",
   "language": "julia",
   "name": "julia-1.5"
  },
  "language_info": {
   "file_extension": ".jl",
   "mimetype": "application/julia",
   "name": "julia",
   "version": "1.5.3"
  }
 },
 "nbformat": 4,
 "nbformat_minor": 4
}
