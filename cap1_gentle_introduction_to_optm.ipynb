{
 "cells": [
  {
   "cell_type": "code",
   "execution_count": 1,
   "metadata": {},
   "outputs": [],
   "source": [
    "import cvxpy as cp\n",
    "import numpy as np"
   ]
  },
  {
   "cell_type": "markdown",
   "metadata": {},
   "source": [
    "# Exercise 5"
   ]
  },
  {
   "cell_type": "code",
   "execution_count": 27,
   "metadata": {},
   "outputs": [
    {
     "name": "stdout",
     "output_type": "stream",
     "text": [
      "[299.9999990236752, 8.269403576408772e-09, 839.999998498758, 1.0029144739312562e-06, 500.00000105262114, 900.0000004136206]\n"
     ]
    }
   ],
   "source": [
    "#Variables\n",
    "var_names = ['l'+str(x) for x in range(10, 16)]\n",
    "var_cp = [cp.Variable(1, name) for name in var_names]\n",
    "\n",
    "#Constraints\n",
    "constraints = []\n",
    "#Non-negative\n",
    "for i in range(len(var_cp)):\n",
    "    constraints.append(var_cp[i] >= 0)\n",
    "\n",
    "#Equals to total\n",
    "constraints.append(sum(var_cp) == 2540)\n",
    "\n",
    "#Produced quantity\n",
    "produced = [300, 540, 1140, 1340, 1640, 2540]\n",
    "for i in range(len(var_cp)):\n",
    "    if i != len(var_cp):\n",
    "        constraints.append(sum(var_cp[:i+1]) <= produced[i])\n",
    "    else:\n",
    "        constraints.append(sum(var_cp) <= produced[i])\n",
    "\n",
    "#Remaining smaller then 1000\n",
    "for i in range(len(var_cp)):\n",
    "    if i != len(var_cp):\n",
    "        constraints.append(produced[i] - sum(var_cp[:i+1]) <= 1000)\n",
    "    else:\n",
    "        constraints.append(produced[i] - sum(var_cp) <= 1000)\n",
    "\n",
    "#Objective function\n",
    "costs = [30, 40, 35, 45, 38, 50]\n",
    "f = []\n",
    "for i, c in enumerate(costs):\n",
    "    f.append(c * var_cp[i])\n",
    "\n",
    "prob = cp.Problem(cp.Minimize(sum(f)), constraints)\n",
    "prob.solve()\n",
    "L = [float(v.value) for v in var_cp]\n",
    "print(L)"
   ]
  }
 ],
 "metadata": {
  "kernelspec": {
   "display_name": "Python 3",
   "language": "python",
   "name": "python3"
  },
  "language_info": {
   "codemirror_mode": {
    "name": "ipython",
    "version": 3
   },
   "file_extension": ".py",
   "mimetype": "text/x-python",
   "name": "python",
   "nbconvert_exporter": "python",
   "pygments_lexer": "ipython3",
   "version": "3.8.3"
  }
 },
 "nbformat": 4,
 "nbformat_minor": 4
}
